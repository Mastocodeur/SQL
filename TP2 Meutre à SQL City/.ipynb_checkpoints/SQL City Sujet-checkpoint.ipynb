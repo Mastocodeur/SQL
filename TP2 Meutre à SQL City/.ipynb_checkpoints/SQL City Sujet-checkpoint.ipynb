{
 "cells": [
  {
   "cell_type": "markdown",
   "id": "d32d66f4-d9bf-46ba-a428-eb0c99a3dc6a",
   "metadata": {},
   "source": [
    "# <center>Meurtre à SQL City </center>"
   ]
  },
  {
   "cell_type": "markdown",
   "id": "e6d75ee5-0129-4a5f-af0d-246e3c479f41",
   "metadata": {},
   "source": [
    "<div style=\"text-align: center;\">\n",
    "    <img src=\"../images/sqlcity.png\" width=\"500\" height=\"200\">\n",
    "</div>"
   ]
  },
  {
   "cell_type": "markdown",
   "id": "7943a0b7-3a91-45fd-be9b-54bb9d328da3",
   "metadata": {},
   "source": [
    "Un meurtre a eu lieu à SQL City ! SQL Murder Mystery est conçu pour être à la fois une leçon autodirigée pour apprendre les concepts et les commandes SQL et un jeu amusant pour les utilisateurs SQL expérimentés pour résoudre un crime intriguant.\r\n",
    "\r\n",
    "Un crime a eu lieu et le détective a besoin de votre aide. Le détective vous a remis le rapport de scène de crime, mais vous l'avez perdu. Vous vous souvenez vaguement que le crime était un ​meurtre​ qui a eu lieu le ​15 janvier 2018​ et qu'il a eu lieu à ​SQL City​. Commencez par récupérer le rapport de scène de crime correspondant dans la base de données du service de police."
   ]
  },
  {
   "cell_type": "markdown",
   "id": "724d9929-42bf-4792-b91e-64fd3bbaee6c",
   "metadata": {},
   "source": [
    "https://www.kaggle.com/datasets/johnp47/sql-murder-mystery-database/data"
   ]
  },
  {
   "cell_type": "code",
   "execution_count": 128,
   "id": "be14c352-2653-4477-b5c7-be5908264c1d",
   "metadata": {},
   "outputs": [],
   "source": [
    "import csv, sqlite3, pandas\n",
    "\n",
    "con = sqlite3.connect(\"data/sql-murder-mystery.db\")\n",
    "cur = con.cursor()"
   ]
  },
  {
   "cell_type": "code",
   "execution_count": 129,
   "id": "85c6a643-4875-49d1-9dac-c134cffbe3d7",
   "metadata": {},
   "outputs": [
    {
     "name": "stdout",
     "output_type": "stream",
     "text": [
      "The sql extension is already loaded. To reload it, use:\n",
      "  %reload_ext sql\n"
     ]
    }
   ],
   "source": [
    "%load_ext sql"
   ]
  },
  {
   "cell_type": "code",
   "execution_count": 130,
   "id": "1d4d89b9-d664-4b6e-973c-134c5096e249",
   "metadata": {},
   "outputs": [],
   "source": [
    "%sql sqlite:///data/sql-murder-mystery.db"
   ]
  },
  {
   "cell_type": "code",
   "execution_count": 131,
   "id": "c3a74367-6708-4f36-9448-e12a27c641e4",
   "metadata": {},
   "outputs": [
    {
     "name": "stdout",
     "output_type": "stream",
     "text": [
      " * sqlite:///data/sql-murder-mystery.db\n",
      "Done.\n"
     ]
    },
    {
     "data": {
      "text/html": [
       "<table>\n",
       "    <thead>\n",
       "        <tr>\n",
       "            <th>name</th>\n",
       "        </tr>\n",
       "    </thead>\n",
       "    <tbody>\n",
       "        <tr>\n",
       "            <td>crime_scene_report</td>\n",
       "        </tr>\n",
       "        <tr>\n",
       "            <td>drivers_license</td>\n",
       "        </tr>\n",
       "        <tr>\n",
       "            <td>person</td>\n",
       "        </tr>\n",
       "        <tr>\n",
       "            <td>facebook_event_checkin</td>\n",
       "        </tr>\n",
       "        <tr>\n",
       "            <td>interview</td>\n",
       "        </tr>\n",
       "        <tr>\n",
       "            <td>get_fit_now_member</td>\n",
       "        </tr>\n",
       "        <tr>\n",
       "            <td>get_fit_now_check_in</td>\n",
       "        </tr>\n",
       "        <tr>\n",
       "            <td>income</td>\n",
       "        </tr>\n",
       "        <tr>\n",
       "            <td>solution</td>\n",
       "        </tr>\n",
       "    </tbody>\n",
       "</table>"
      ],
      "text/plain": [
       "[('crime_scene_report',),\n",
       " ('drivers_license',),\n",
       " ('person',),\n",
       " ('facebook_event_checkin',),\n",
       " ('interview',),\n",
       " ('get_fit_now_member',),\n",
       " ('get_fit_now_check_in',),\n",
       " ('income',),\n",
       " ('solution',)]"
      ]
     },
     "execution_count": 131,
     "metadata": {},
     "output_type": "execute_result"
    }
   ],
   "source": [
    "%%sql\n",
    "SELECT name FROM sqlite_master WHERE type='table';"
   ]
  },
  {
   "cell_type": "code",
   "execution_count": 132,
   "id": "b2e5a556-20be-4d22-9fba-f27f5d252adb",
   "metadata": {},
   "outputs": [
    {
     "name": "stdout",
     "output_type": "stream",
     "text": [
      " * sqlite:///data/sql-murder-mystery.db\n",
      "Done.\n"
     ]
    },
    {
     "data": {
      "text/html": [
       "<table>\n",
       "    <thead>\n",
       "        <tr>\n",
       "            <th>cid</th>\n",
       "            <th>name</th>\n",
       "            <th>type</th>\n",
       "            <th>notnull</th>\n",
       "            <th>dflt_value</th>\n",
       "            <th>pk</th>\n",
       "        </tr>\n",
       "    </thead>\n",
       "    <tbody>\n",
       "        <tr>\n",
       "            <td>0</td>\n",
       "            <td>date</td>\n",
       "            <td>INTEGER</td>\n",
       "            <td>0</td>\n",
       "            <td>None</td>\n",
       "            <td>0</td>\n",
       "        </tr>\n",
       "        <tr>\n",
       "            <td>1</td>\n",
       "            <td>type</td>\n",
       "            <td>TEXT</td>\n",
       "            <td>0</td>\n",
       "            <td>None</td>\n",
       "            <td>0</td>\n",
       "        </tr>\n",
       "        <tr>\n",
       "            <td>2</td>\n",
       "            <td>description</td>\n",
       "            <td>TEXT</td>\n",
       "            <td>0</td>\n",
       "            <td>None</td>\n",
       "            <td>0</td>\n",
       "        </tr>\n",
       "        <tr>\n",
       "            <td>3</td>\n",
       "            <td>city</td>\n",
       "            <td>TEXT</td>\n",
       "            <td>0</td>\n",
       "            <td>None</td>\n",
       "            <td>0</td>\n",
       "        </tr>\n",
       "    </tbody>\n",
       "</table>"
      ],
      "text/plain": [
       "[(0, 'date', 'INTEGER', 0, None, 0),\n",
       " (1, 'type', 'TEXT', 0, None, 0),\n",
       " (2, 'description', 'TEXT', 0, None, 0),\n",
       " (3, 'city', 'TEXT', 0, None, 0)]"
      ]
     },
     "execution_count": 132,
     "metadata": {},
     "output_type": "execute_result"
    }
   ],
   "source": [
    "%%sql\n",
    "PRAGMA table_info(crime_scene_report);"
   ]
  },
  {
   "cell_type": "code",
   "execution_count": 133,
   "id": "68e3b58e-9b7d-43f2-9cca-68293c7730ff",
   "metadata": {},
   "outputs": [
    {
     "name": "stdout",
     "output_type": "stream",
     "text": [
      " * sqlite:///data/sql-murder-mystery.db\n",
      "Done.\n"
     ]
    },
    {
     "data": {
      "text/html": [
       "<table>\n",
       "    <thead>\n",
       "        <tr>\n",
       "            <th>date</th>\n",
       "            <th>type</th>\n",
       "            <th>description</th>\n",
       "            <th>city</th>\n",
       "        </tr>\n",
       "    </thead>\n",
       "    <tbody>\n",
       "        <tr>\n",
       "            <td>20180115</td>\n",
       "            <td>assault</td>\n",
       "            <td>Hamilton: Lee, do you yield? Burr: You shot him in the side! Yes he yields!</td>\n",
       "            <td>SQL City</td>\n",
       "        </tr>\n",
       "        <tr>\n",
       "            <td>20180115</td>\n",
       "            <td>assault</td>\n",
       "            <td>Report Not Found</td>\n",
       "            <td>SQL City</td>\n",
       "        </tr>\n",
       "        <tr>\n",
       "            <td>20180115</td>\n",
       "            <td>murder</td>\n",
       "            <td>Security footage shows that there were 2 witnesses. The first witness lives at the last house on &quot;Northwestern Dr&quot;. The second witness, named Annabel, lives somewhere on &quot;Franklin Ave&quot;.</td>\n",
       "            <td>SQL City</td>\n",
       "        </tr>\n",
       "    </tbody>\n",
       "</table>"
      ],
      "text/plain": [
       "[(20180115, 'assault', 'Hamilton: Lee, do you yield? Burr: You shot him in the side! Yes he yields!', 'SQL City'),\n",
       " (20180115, 'assault', 'Report Not Found', 'SQL City'),\n",
       " (20180115, 'murder', 'Security footage shows that there were 2 witnesses. The first witness lives at the last house on \"Northwestern Dr\". The second witness, named Annabel, lives somewhere on \"Franklin Ave\".', 'SQL City')]"
      ]
     },
     "execution_count": 133,
     "metadata": {},
     "output_type": "execute_result"
    }
   ],
   "source": [
    "%%sql \n",
    "SELECT * FROM crime_scene_report  WHERE date == 20180115 AND city == \"SQL City\" ;"
   ]
  },
  {
   "cell_type": "code",
   "execution_count": 134,
   "id": "e65fccb0-55d7-4300-ace3-a43afa7d4862",
   "metadata": {},
   "outputs": [
    {
     "name": "stdout",
     "output_type": "stream",
     "text": [
      " * sqlite:///data/sql-murder-mystery.db\n",
      "Done.\n"
     ]
    },
    {
     "data": {
      "text/html": [
       "<table>\n",
       "    <thead>\n",
       "        <tr>\n",
       "            <th>cid</th>\n",
       "            <th>name</th>\n",
       "            <th>type</th>\n",
       "            <th>notnull</th>\n",
       "            <th>dflt_value</th>\n",
       "            <th>pk</th>\n",
       "        </tr>\n",
       "    </thead>\n",
       "    <tbody>\n",
       "        <tr>\n",
       "            <td>0</td>\n",
       "            <td>id</td>\n",
       "            <td>INTEGER</td>\n",
       "            <td>0</td>\n",
       "            <td>None</td>\n",
       "            <td>1</td>\n",
       "        </tr>\n",
       "        <tr>\n",
       "            <td>1</td>\n",
       "            <td>name</td>\n",
       "            <td>TEXT</td>\n",
       "            <td>0</td>\n",
       "            <td>None</td>\n",
       "            <td>0</td>\n",
       "        </tr>\n",
       "        <tr>\n",
       "            <td>2</td>\n",
       "            <td>license_id</td>\n",
       "            <td>INTEGER</td>\n",
       "            <td>0</td>\n",
       "            <td>None</td>\n",
       "            <td>0</td>\n",
       "        </tr>\n",
       "        <tr>\n",
       "            <td>3</td>\n",
       "            <td>address_number</td>\n",
       "            <td>INTEGER</td>\n",
       "            <td>0</td>\n",
       "            <td>None</td>\n",
       "            <td>0</td>\n",
       "        </tr>\n",
       "        <tr>\n",
       "            <td>4</td>\n",
       "            <td>address_street_name</td>\n",
       "            <td>TEXT</td>\n",
       "            <td>0</td>\n",
       "            <td>None</td>\n",
       "            <td>0</td>\n",
       "        </tr>\n",
       "        <tr>\n",
       "            <td>5</td>\n",
       "            <td>ssn</td>\n",
       "            <td>INTEGER</td>\n",
       "            <td>0</td>\n",
       "            <td>None</td>\n",
       "            <td>0</td>\n",
       "        </tr>\n",
       "    </tbody>\n",
       "</table>"
      ],
      "text/plain": [
       "[(0, 'id', 'INTEGER', 0, None, 1),\n",
       " (1, 'name', 'TEXT', 0, None, 0),\n",
       " (2, 'license_id', 'INTEGER', 0, None, 0),\n",
       " (3, 'address_number', 'INTEGER', 0, None, 0),\n",
       " (4, 'address_street_name', 'TEXT', 0, None, 0),\n",
       " (5, 'ssn', 'INTEGER', 0, None, 0)]"
      ]
     },
     "execution_count": 134,
     "metadata": {},
     "output_type": "execute_result"
    }
   ],
   "source": [
    "%%sql\n",
    "PRAGMA table_info(person);"
   ]
  },
  {
   "cell_type": "code",
   "execution_count": 135,
   "id": "a4cdfbc5-a357-4717-82d7-89e45071bc3e",
   "metadata": {},
   "outputs": [
    {
     "name": "stdout",
     "output_type": "stream",
     "text": [
      " * sqlite:///data/sql-murder-mystery.db\n",
      "Done.\n"
     ]
    },
    {
     "data": {
      "text/html": [
       "<table>\n",
       "    <thead>\n",
       "        <tr>\n",
       "            <th>id</th>\n",
       "            <th>name</th>\n",
       "            <th>license_id</th>\n",
       "            <th>address_number</th>\n",
       "            <th>address_street_name</th>\n",
       "            <th>ssn</th>\n",
       "        </tr>\n",
       "    </thead>\n",
       "    <tbody>\n",
       "        <tr>\n",
       "            <td>14887</td>\n",
       "            <td>Morty Schapiro</td>\n",
       "            <td>118009</td>\n",
       "            <td>4919</td>\n",
       "            <td>Northwestern Dr</td>\n",
       "            <td>111564949</td>\n",
       "        </tr>\n",
       "        <tr>\n",
       "            <td>16371</td>\n",
       "            <td>Annabel Miller</td>\n",
       "            <td>490173</td>\n",
       "            <td>103</td>\n",
       "            <td>Franklin Ave</td>\n",
       "            <td>318771143</td>\n",
       "        </tr>\n",
       "    </tbody>\n",
       "</table>"
      ],
      "text/plain": [
       "[(14887, 'Morty Schapiro', 118009, 4919, 'Northwestern Dr', 111564949),\n",
       " (16371, 'Annabel Miller', 490173, 103, 'Franklin Ave', 318771143)]"
      ]
     },
     "execution_count": 135,
     "metadata": {},
     "output_type": "execute_result"
    }
   ],
   "source": [
    "%%sql \n",
    "SELECT * FROM person \n",
    "WHERE (address_street_name==\"Northwestern Dr\" AND address_number = (SELECT MAX(address_number) FROM person)) OR (address_street_name==\"Franklin Ave\" AND name LIKE \"Annabel %\") ;"
   ]
  },
  {
   "cell_type": "code",
   "execution_count": 136,
   "id": "fb258c12-d4c0-4fc6-8f61-8dc5bff22e6b",
   "metadata": {},
   "outputs": [],
   "source": [
    "# On sait donc qu'Annabel a pour nom \"Miller\" et que le témoin de Norwhest house vit dans la dernière maison"
   ]
  },
  {
   "cell_type": "code",
   "execution_count": 137,
   "id": "fab8d248-680b-48fe-8402-7edc957b9507",
   "metadata": {},
   "outputs": [
    {
     "name": "stdout",
     "output_type": "stream",
     "text": [
      " * sqlite:///data/sql-murder-mystery.db\n",
      "Done.\n"
     ]
    },
    {
     "data": {
      "text/html": [
       "<table>\n",
       "    <thead>\n",
       "        <tr>\n",
       "            <th>cid</th>\n",
       "            <th>name</th>\n",
       "            <th>type</th>\n",
       "            <th>notnull</th>\n",
       "            <th>dflt_value</th>\n",
       "            <th>pk</th>\n",
       "        </tr>\n",
       "    </thead>\n",
       "    <tbody>\n",
       "        <tr>\n",
       "            <td>0</td>\n",
       "            <td>person_id</td>\n",
       "            <td>INTEGER</td>\n",
       "            <td>0</td>\n",
       "            <td>None</td>\n",
       "            <td>0</td>\n",
       "        </tr>\n",
       "        <tr>\n",
       "            <td>1</td>\n",
       "            <td>transcript</td>\n",
       "            <td>TEXT</td>\n",
       "            <td>0</td>\n",
       "            <td>None</td>\n",
       "            <td>0</td>\n",
       "        </tr>\n",
       "    </tbody>\n",
       "</table>"
      ],
      "text/plain": [
       "[(0, 'person_id', 'INTEGER', 0, None, 0),\n",
       " (1, 'transcript', 'TEXT', 0, None, 0)]"
      ]
     },
     "execution_count": 137,
     "metadata": {},
     "output_type": "execute_result"
    }
   ],
   "source": [
    "%%sql\n",
    "PRAGMA table_info(interview);"
   ]
  },
  {
   "cell_type": "code",
   "execution_count": 138,
   "id": "55f5d4c7-146f-4aeb-85ec-395b53fbdd43",
   "metadata": {},
   "outputs": [
    {
     "name": "stdout",
     "output_type": "stream",
     "text": [
      " * sqlite:///data/sql-murder-mystery.db\n",
      "Done.\n"
     ]
    },
    {
     "data": {
      "text/html": [
       "<table>\n",
       "    <thead>\n",
       "        <tr>\n",
       "            <th>person_id</th>\n",
       "            <th>transcript</th>\n",
       "        </tr>\n",
       "    </thead>\n",
       "    <tbody>\n",
       "        <tr>\n",
       "            <td>14887</td>\n",
       "            <td>I heard a gunshot and then saw a man run out. He had a &quot;Get Fit Now Gym&quot; bag. The membership number on the bag started with &quot;48Z&quot;. Only gold members have those bags. The man got into a car with a plate that included &quot;H42W&quot;.</td>\n",
       "        </tr>\n",
       "        <tr>\n",
       "            <td>16371</td>\n",
       "            <td>I saw the murder happen, and I recognized the killer from my gym when I was working out last week on January the 9th.</td>\n",
       "        </tr>\n",
       "    </tbody>\n",
       "</table>"
      ],
      "text/plain": [
       "[(14887, 'I heard a gunshot and then saw a man run out. He had a \"Get Fit Now Gym\" bag. The membership number on the bag started with \"48Z\". Only gold members have those bags. The man got into a car with a plate that included \"H42W\".'),\n",
       " (16371, 'I saw the murder happen, and I recognized the killer from my gym when I was working out last week on January the 9th.')]"
      ]
     },
     "execution_count": 138,
     "metadata": {},
     "output_type": "execute_result"
    }
   ],
   "source": [
    "%%sql \n",
    "SELECT * FROM interview\n",
    "WHERE person_id == 14887 OR person_id==16371;"
   ]
  },
  {
   "cell_type": "markdown",
   "id": "301e710a-a78d-4d64-a453-b469e3c89d08",
   "metadata": {},
   "source": [
    "Nos témoins nous enseignent qu'un homme portait un sac \"get fit now gym bag\" avec les initiales 48Z qui est le sac typique des abonnés gold. Il est parti dans une voiture dont l'imatriculation comportait la séquence H42W.\n",
    "\n",
    "Le criminel a été vu et le 9 janvier il était bien à la salle."
   ]
  },
  {
   "cell_type": "code",
   "execution_count": 139,
   "id": "f6997cc0-be07-4738-a147-85f6c818ed6a",
   "metadata": {},
   "outputs": [
    {
     "name": "stdout",
     "output_type": "stream",
     "text": [
      " * sqlite:///data/sql-murder-mystery.db\n",
      "Done.\n"
     ]
    },
    {
     "data": {
      "text/html": [
       "<table>\n",
       "    <thead>\n",
       "        <tr>\n",
       "            <th>cid</th>\n",
       "            <th>name</th>\n",
       "            <th>type</th>\n",
       "            <th>notnull</th>\n",
       "            <th>dflt_value</th>\n",
       "            <th>pk</th>\n",
       "        </tr>\n",
       "    </thead>\n",
       "    <tbody>\n",
       "        <tr>\n",
       "            <td>0</td>\n",
       "            <td>id</td>\n",
       "            <td>TEXT</td>\n",
       "            <td>0</td>\n",
       "            <td>None</td>\n",
       "            <td>1</td>\n",
       "        </tr>\n",
       "        <tr>\n",
       "            <td>1</td>\n",
       "            <td>person_id</td>\n",
       "            <td>INTEGER</td>\n",
       "            <td>0</td>\n",
       "            <td>None</td>\n",
       "            <td>0</td>\n",
       "        </tr>\n",
       "        <tr>\n",
       "            <td>2</td>\n",
       "            <td>name</td>\n",
       "            <td>TEXT</td>\n",
       "            <td>0</td>\n",
       "            <td>None</td>\n",
       "            <td>0</td>\n",
       "        </tr>\n",
       "        <tr>\n",
       "            <td>3</td>\n",
       "            <td>membership_start_date</td>\n",
       "            <td>INTEGER</td>\n",
       "            <td>0</td>\n",
       "            <td>None</td>\n",
       "            <td>0</td>\n",
       "        </tr>\n",
       "        <tr>\n",
       "            <td>4</td>\n",
       "            <td>membership_status</td>\n",
       "            <td>TEXT</td>\n",
       "            <td>0</td>\n",
       "            <td>None</td>\n",
       "            <td>0</td>\n",
       "        </tr>\n",
       "    </tbody>\n",
       "</table>"
      ],
      "text/plain": [
       "[(0, 'id', 'TEXT', 0, None, 1),\n",
       " (1, 'person_id', 'INTEGER', 0, None, 0),\n",
       " (2, 'name', 'TEXT', 0, None, 0),\n",
       " (3, 'membership_start_date', 'INTEGER', 0, None, 0),\n",
       " (4, 'membership_status', 'TEXT', 0, None, 0)]"
      ]
     },
     "execution_count": 139,
     "metadata": {},
     "output_type": "execute_result"
    }
   ],
   "source": [
    "%%sql\n",
    "PRAGMA table_info(get_fit_now_member);"
   ]
  },
  {
   "cell_type": "code",
   "execution_count": 140,
   "id": "940cc5a4-d25a-4903-b9fc-3de0a9292060",
   "metadata": {},
   "outputs": [
    {
     "name": "stdout",
     "output_type": "stream",
     "text": [
      " * sqlite:///data/sql-murder-mystery.db\n",
      "Done.\n"
     ]
    },
    {
     "data": {
      "text/html": [
       "<table>\n",
       "    <thead>\n",
       "        <tr>\n",
       "            <th>id</th>\n",
       "            <th>person_id</th>\n",
       "            <th>name</th>\n",
       "            <th>membership_start_date</th>\n",
       "            <th>membership_status</th>\n",
       "        </tr>\n",
       "    </thead>\n",
       "    <tbody>\n",
       "        <tr>\n",
       "            <td>48Z7A</td>\n",
       "            <td>28819</td>\n",
       "            <td>Joe Germuska</td>\n",
       "            <td>20160305</td>\n",
       "            <td>gold</td>\n",
       "        </tr>\n",
       "        <tr>\n",
       "            <td>48Z55</td>\n",
       "            <td>67318</td>\n",
       "            <td>Jeremy Bowers</td>\n",
       "            <td>20160101</td>\n",
       "            <td>gold</td>\n",
       "        </tr>\n",
       "    </tbody>\n",
       "</table>"
      ],
      "text/plain": [
       "[('48Z7A', 28819, 'Joe Germuska', 20160305, 'gold'),\n",
       " ('48Z55', 67318, 'Jeremy Bowers', 20160101, 'gold')]"
      ]
     },
     "execution_count": 140,
     "metadata": {},
     "output_type": "execute_result"
    }
   ],
   "source": [
    "%%sql \n",
    "SELECT * FROM get_fit_now_member \n",
    "WHERE id LIKE \"48Z%\" and membership_status ==\"gold\";"
   ]
  },
  {
   "cell_type": "code",
   "execution_count": 153,
   "id": "9bad5a3c-960f-46ca-b87f-06cf55cce189",
   "metadata": {},
   "outputs": [
    {
     "name": "stdout",
     "output_type": "stream",
     "text": [
      " * sqlite:///data/sql-murder-mystery.db\n",
      "Done.\n"
     ]
    },
    {
     "data": {
      "text/html": [
       "<table>\n",
       "    <thead>\n",
       "        <tr>\n",
       "            <th>id</th>\n",
       "            <th>person_id</th>\n",
       "            <th>name</th>\n",
       "            <th>membership_start_date</th>\n",
       "            <th>membership_status</th>\n",
       "        </tr>\n",
       "    </thead>\n",
       "    <tbody>\n",
       "        <tr>\n",
       "            <td>48Z38</td>\n",
       "            <td>49550</td>\n",
       "            <td>Tomas Baisley</td>\n",
       "            <td>20170203</td>\n",
       "            <td>silver</td>\n",
       "        </tr>\n",
       "        <tr>\n",
       "            <td>48Z7A</td>\n",
       "            <td>28819</td>\n",
       "            <td>Joe Germuska</td>\n",
       "            <td>20160305</td>\n",
       "            <td>gold</td>\n",
       "        </tr>\n",
       "        <tr>\n",
       "            <td>48Z55</td>\n",
       "            <td>67318</td>\n",
       "            <td>Jeremy Bowers</td>\n",
       "            <td>20160101</td>\n",
       "            <td>gold</td>\n",
       "        </tr>\n",
       "    </tbody>\n",
       "</table>"
      ],
      "text/plain": [
       "[('48Z38', 49550, 'Tomas Baisley', 20170203, 'silver'),\n",
       " ('48Z7A', 28819, 'Joe Germuska', 20160305, 'gold'),\n",
       " ('48Z55', 67318, 'Jeremy Bowers', 20160101, 'gold')]"
      ]
     },
     "execution_count": 153,
     "metadata": {},
     "output_type": "execute_result"
    }
   ],
   "source": [
    "%%sql \n",
    "SELECT * FROM get_fit_now_member \n",
    "WHERE id LIKE \"48Z%\" ;"
   ]
  },
  {
   "cell_type": "markdown",
   "id": "d0f836bc-a7de-4f6f-b062-cf923ccaa99a",
   "metadata": {},
   "source": [
    "S'informer sur les témoins"
   ]
  },
  {
   "cell_type": "code",
   "execution_count": 152,
   "id": "8cf89f26-d3c7-4561-8295-65dd5a6a6d9c",
   "metadata": {},
   "outputs": [
    {
     "name": "stdout",
     "output_type": "stream",
     "text": [
      " * sqlite:///data/sql-murder-mystery.db\n",
      "Done.\n"
     ]
    },
    {
     "data": {
      "text/html": [
       "<table>\n",
       "    <thead>\n",
       "        <tr>\n",
       "            <th>id</th>\n",
       "            <th>person_id</th>\n",
       "            <th>name</th>\n",
       "            <th>membership_start_date</th>\n",
       "            <th>membership_status</th>\n",
       "        </tr>\n",
       "    </thead>\n",
       "    <tbody>\n",
       "        <tr>\n",
       "            <td>90081</td>\n",
       "            <td>16371</td>\n",
       "            <td>Annabel Miller</td>\n",
       "            <td>20160208</td>\n",
       "            <td>gold</td>\n",
       "        </tr>\n",
       "    </tbody>\n",
       "</table>"
      ],
      "text/plain": [
       "[('90081', 16371, 'Annabel Miller', 20160208, 'gold')]"
      ]
     },
     "execution_count": 152,
     "metadata": {},
     "output_type": "execute_result"
    }
   ],
   "source": [
    "%%sql \n",
    "SELECT * FROM get_fit_now_member \n",
    "WHERE person_id == 14887 or person_id == 16371 "
   ]
  },
  {
   "cell_type": "markdown",
   "id": "8c4fa4cc-0fa9-4fca-9afd-a051f2837800",
   "metadata": {},
   "source": [
    "Comment ça se fait qu'on retrouve pas 14887 ? Ce témoin est bien renseigné sur la salle de sport et n'est pourtant pas membre..."
   ]
  },
  {
   "cell_type": "code",
   "execution_count": 24,
   "id": "dc68049e-2c92-4f8b-889c-b2996f84f456",
   "metadata": {},
   "outputs": [
    {
     "name": "stdout",
     "output_type": "stream",
     "text": [
      " * sqlite:///data/sql-murder-mystery.db\n",
      "Done.\n"
     ]
    },
    {
     "data": {
      "text/html": [
       "<table>\n",
       "    <thead>\n",
       "        <tr>\n",
       "            <th>cid</th>\n",
       "            <th>name</th>\n",
       "            <th>type</th>\n",
       "            <th>notnull</th>\n",
       "            <th>dflt_value</th>\n",
       "            <th>pk</th>\n",
       "        </tr>\n",
       "    </thead>\n",
       "    <tbody>\n",
       "        <tr>\n",
       "            <td>0</td>\n",
       "            <td>membership_id</td>\n",
       "            <td>TEXT</td>\n",
       "            <td>0</td>\n",
       "            <td>None</td>\n",
       "            <td>0</td>\n",
       "        </tr>\n",
       "        <tr>\n",
       "            <td>1</td>\n",
       "            <td>check_in_date</td>\n",
       "            <td>INTEGER</td>\n",
       "            <td>0</td>\n",
       "            <td>None</td>\n",
       "            <td>0</td>\n",
       "        </tr>\n",
       "        <tr>\n",
       "            <td>2</td>\n",
       "            <td>check_in_time</td>\n",
       "            <td>INTEGER</td>\n",
       "            <td>0</td>\n",
       "            <td>None</td>\n",
       "            <td>0</td>\n",
       "        </tr>\n",
       "        <tr>\n",
       "            <td>3</td>\n",
       "            <td>check_out_time</td>\n",
       "            <td>INTEGER</td>\n",
       "            <td>0</td>\n",
       "            <td>None</td>\n",
       "            <td>0</td>\n",
       "        </tr>\n",
       "    </tbody>\n",
       "</table>"
      ],
      "text/plain": [
       "[(0, 'membership_id', 'TEXT', 0, None, 0),\n",
       " (1, 'check_in_date', 'INTEGER', 0, None, 0),\n",
       " (2, 'check_in_time', 'INTEGER', 0, None, 0),\n",
       " (3, 'check_out_time', 'INTEGER', 0, None, 0)]"
      ]
     },
     "execution_count": 24,
     "metadata": {},
     "output_type": "execute_result"
    }
   ],
   "source": [
    "%%sql\n",
    "PRAGMA table_info(get_fit_now_check_in);"
   ]
  },
  {
   "cell_type": "code",
   "execution_count": 47,
   "id": "95cffe73-00c0-4a7f-aa0f-aeba9ed03448",
   "metadata": {},
   "outputs": [
    {
     "name": "stdout",
     "output_type": "stream",
     "text": [
      " * sqlite:///data/sql-murder-mystery.db\n",
      "Done.\n"
     ]
    },
    {
     "data": {
      "text/html": [
       "<table>\n",
       "    <thead>\n",
       "        <tr>\n",
       "            <th>membership_id</th>\n",
       "            <th>check_in_date</th>\n",
       "            <th>check_in_time</th>\n",
       "            <th>check_out_time</th>\n",
       "        </tr>\n",
       "    </thead>\n",
       "    <tbody>\n",
       "        <tr>\n",
       "            <td>48Z7A</td>\n",
       "            <td>20180109</td>\n",
       "            <td>1600</td>\n",
       "            <td>1730</td>\n",
       "        </tr>\n",
       "        <tr>\n",
       "            <td>48Z55</td>\n",
       "            <td>20180109</td>\n",
       "            <td>1530</td>\n",
       "            <td>1700</td>\n",
       "        </tr>\n",
       "    </tbody>\n",
       "</table>"
      ],
      "text/plain": [
       "[('48Z7A', 20180109, 1600, 1730), ('48Z55', 20180109, 1530, 1700)]"
      ]
     },
     "execution_count": 47,
     "metadata": {},
     "output_type": "execute_result"
    }
   ],
   "source": [
    "%%sql \n",
    "SELECT * FROM get_fit_now_check_in\n",
    "WHERE check_in_date = 20180109 AND membership_id == \"48Z7A\" OR membership_id == \"48Z55\"\t ;"
   ]
  },
  {
   "cell_type": "code",
   "execution_count": 154,
   "id": "8de7e3fa-dd25-4de6-add8-f1781cc920d2",
   "metadata": {},
   "outputs": [
    {
     "name": "stdout",
     "output_type": "stream",
     "text": [
      " * sqlite:///data/sql-murder-mystery.db\n",
      "Done.\n"
     ]
    },
    {
     "data": {
      "text/html": [
       "<table>\n",
       "    <thead>\n",
       "        <tr>\n",
       "            <th>membership_id</th>\n",
       "            <th>check_in_date</th>\n",
       "            <th>check_in_time</th>\n",
       "            <th>check_out_time</th>\n",
       "        </tr>\n",
       "    </thead>\n",
       "    <tbody>\n",
       "        <tr>\n",
       "            <td>X0643</td>\n",
       "            <td>20180109</td>\n",
       "            <td>957</td>\n",
       "            <td>1164</td>\n",
       "        </tr>\n",
       "        <tr>\n",
       "            <td>UK1F2</td>\n",
       "            <td>20180109</td>\n",
       "            <td>344</td>\n",
       "            <td>518</td>\n",
       "        </tr>\n",
       "        <tr>\n",
       "            <td>XTE42</td>\n",
       "            <td>20180109</td>\n",
       "            <td>486</td>\n",
       "            <td>1124</td>\n",
       "        </tr>\n",
       "        <tr>\n",
       "            <td>1AE2H</td>\n",
       "            <td>20180109</td>\n",
       "            <td>461</td>\n",
       "            <td>944</td>\n",
       "        </tr>\n",
       "        <tr>\n",
       "            <td>6LSTG</td>\n",
       "            <td>20180109</td>\n",
       "            <td>399</td>\n",
       "            <td>515</td>\n",
       "        </tr>\n",
       "        <tr>\n",
       "            <td>7MWHJ</td>\n",
       "            <td>20180109</td>\n",
       "            <td>273</td>\n",
       "            <td>885</td>\n",
       "        </tr>\n",
       "        <tr>\n",
       "            <td>GE5Q8</td>\n",
       "            <td>20180109</td>\n",
       "            <td>367</td>\n",
       "            <td>959</td>\n",
       "        </tr>\n",
       "        <tr>\n",
       "            <td>48Z7A</td>\n",
       "            <td>20180109</td>\n",
       "            <td>1600</td>\n",
       "            <td>1730</td>\n",
       "        </tr>\n",
       "        <tr>\n",
       "            <td>48Z55</td>\n",
       "            <td>20180109</td>\n",
       "            <td>1530</td>\n",
       "            <td>1700</td>\n",
       "        </tr>\n",
       "        <tr>\n",
       "            <td>90081</td>\n",
       "            <td>20180109</td>\n",
       "            <td>1600</td>\n",
       "            <td>1700</td>\n",
       "        </tr>\n",
       "    </tbody>\n",
       "</table>"
      ],
      "text/plain": [
       "[('X0643', 20180109, 957, 1164),\n",
       " ('UK1F2', 20180109, 344, 518),\n",
       " ('XTE42', 20180109, 486, 1124),\n",
       " ('1AE2H', 20180109, 461, 944),\n",
       " ('6LSTG', 20180109, 399, 515),\n",
       " ('7MWHJ', 20180109, 273, 885),\n",
       " ('GE5Q8', 20180109, 367, 959),\n",
       " ('48Z7A', 20180109, 1600, 1730),\n",
       " ('48Z55', 20180109, 1530, 1700),\n",
       " ('90081', 20180109, 1600, 1700)]"
      ]
     },
     "execution_count": 154,
     "metadata": {},
     "output_type": "execute_result"
    }
   ],
   "source": [
    "%%sql \n",
    "SELECT * FROM get_fit_now_check_in\n",
    "WHERE check_in_date = 20180109 ;"
   ]
  },
  {
   "cell_type": "code",
   "execution_count": 155,
   "id": "c5d3ae79-5837-4d8d-890a-b15466e3e715",
   "metadata": {},
   "outputs": [
    {
     "name": "stdout",
     "output_type": "stream",
     "text": [
      " * sqlite:///data/sql-murder-mystery.db\n",
      "Done.\n"
     ]
    },
    {
     "data": {
      "text/html": [
       "<table>\n",
       "    <thead>\n",
       "        <tr>\n",
       "            <th>id</th>\n",
       "            <th>person_id</th>\n",
       "            <th>name</th>\n",
       "            <th>membership_start_date</th>\n",
       "            <th>membership_status</th>\n",
       "        </tr>\n",
       "    </thead>\n",
       "    <tbody>\n",
       "        <tr>\n",
       "            <td>90081</td>\n",
       "            <td>16371</td>\n",
       "            <td>Annabel Miller</td>\n",
       "            <td>20160208</td>\n",
       "            <td>gold</td>\n",
       "        </tr>\n",
       "    </tbody>\n",
       "</table>"
      ],
      "text/plain": [
       "[('90081', 16371, 'Annabel Miller', 20160208, 'gold')]"
      ]
     },
     "execution_count": 155,
     "metadata": {},
     "output_type": "execute_result"
    }
   ],
   "source": [
    "%%sql \n",
    "SELECT * FROM get_fit_now_member \n",
    "WHERE id == 90081 "
   ]
  },
  {
   "cell_type": "markdown",
   "id": "961397ad-c9fe-4631-907e-bf9b19bc9ccb",
   "metadata": {},
   "source": [
    "Il s'agit à priori de Joe Germuska ou de Jeremy Bowers. A ce stade impossible de savoir qui est le pincipal suspect. Il faut donc utiliser la deuxième information sur la plaque d'immatriculation et le fait qu'il s'agisse de deux hommes"
   ]
  },
  {
   "cell_type": "code",
   "execution_count": 41,
   "id": "2b7f8b5c-54e0-42f3-9e9c-76c62d3cb1d2",
   "metadata": {},
   "outputs": [
    {
     "name": "stdout",
     "output_type": "stream",
     "text": [
      " * sqlite:///data/sql-murder-mystery.db\n",
      "Done.\n"
     ]
    },
    {
     "data": {
      "text/html": [
       "<table>\n",
       "    <thead>\n",
       "        <tr>\n",
       "            <th>cid</th>\n",
       "            <th>name</th>\n",
       "            <th>type</th>\n",
       "            <th>notnull</th>\n",
       "            <th>dflt_value</th>\n",
       "            <th>pk</th>\n",
       "        </tr>\n",
       "    </thead>\n",
       "    <tbody>\n",
       "        <tr>\n",
       "            <td>0</td>\n",
       "            <td>id</td>\n",
       "            <td>INTEGER</td>\n",
       "            <td>0</td>\n",
       "            <td>None</td>\n",
       "            <td>1</td>\n",
       "        </tr>\n",
       "        <tr>\n",
       "            <td>1</td>\n",
       "            <td>age</td>\n",
       "            <td>INTEGER</td>\n",
       "            <td>0</td>\n",
       "            <td>None</td>\n",
       "            <td>0</td>\n",
       "        </tr>\n",
       "        <tr>\n",
       "            <td>2</td>\n",
       "            <td>height</td>\n",
       "            <td>INTEGER</td>\n",
       "            <td>0</td>\n",
       "            <td>None</td>\n",
       "            <td>0</td>\n",
       "        </tr>\n",
       "        <tr>\n",
       "            <td>3</td>\n",
       "            <td>eye_color</td>\n",
       "            <td>TEXT</td>\n",
       "            <td>0</td>\n",
       "            <td>None</td>\n",
       "            <td>0</td>\n",
       "        </tr>\n",
       "        <tr>\n",
       "            <td>4</td>\n",
       "            <td>hair_color</td>\n",
       "            <td>TEXT</td>\n",
       "            <td>0</td>\n",
       "            <td>None</td>\n",
       "            <td>0</td>\n",
       "        </tr>\n",
       "        <tr>\n",
       "            <td>5</td>\n",
       "            <td>gender</td>\n",
       "            <td>TEXT</td>\n",
       "            <td>0</td>\n",
       "            <td>None</td>\n",
       "            <td>0</td>\n",
       "        </tr>\n",
       "        <tr>\n",
       "            <td>6</td>\n",
       "            <td>plate_number</td>\n",
       "            <td>TEXT</td>\n",
       "            <td>0</td>\n",
       "            <td>None</td>\n",
       "            <td>0</td>\n",
       "        </tr>\n",
       "        <tr>\n",
       "            <td>7</td>\n",
       "            <td>car_make</td>\n",
       "            <td>TEXT</td>\n",
       "            <td>0</td>\n",
       "            <td>None</td>\n",
       "            <td>0</td>\n",
       "        </tr>\n",
       "        <tr>\n",
       "            <td>8</td>\n",
       "            <td>car_model</td>\n",
       "            <td>TEXT</td>\n",
       "            <td>0</td>\n",
       "            <td>None</td>\n",
       "            <td>0</td>\n",
       "        </tr>\n",
       "    </tbody>\n",
       "</table>"
      ],
      "text/plain": [
       "[(0, 'id', 'INTEGER', 0, None, 1),\n",
       " (1, 'age', 'INTEGER', 0, None, 0),\n",
       " (2, 'height', 'INTEGER', 0, None, 0),\n",
       " (3, 'eye_color', 'TEXT', 0, None, 0),\n",
       " (4, 'hair_color', 'TEXT', 0, None, 0),\n",
       " (5, 'gender', 'TEXT', 0, None, 0),\n",
       " (6, 'plate_number', 'TEXT', 0, None, 0),\n",
       " (7, 'car_make', 'TEXT', 0, None, 0),\n",
       " (8, 'car_model', 'TEXT', 0, None, 0)]"
      ]
     },
     "execution_count": 41,
     "metadata": {},
     "output_type": "execute_result"
    }
   ],
   "source": [
    "%%sql\n",
    "PRAGMA table_info(drivers_license);"
   ]
  },
  {
   "cell_type": "code",
   "execution_count": 49,
   "id": "828f4f58-4225-4177-be32-3bd2001674d2",
   "metadata": {},
   "outputs": [
    {
     "name": "stdout",
     "output_type": "stream",
     "text": [
      " * sqlite:///data/sql-murder-mystery.db\n",
      "Done.\n"
     ]
    },
    {
     "data": {
      "text/html": [
       "<table>\n",
       "    <thead>\n",
       "        <tr>\n",
       "            <th>id</th>\n",
       "            <th>age</th>\n",
       "            <th>height</th>\n",
       "            <th>eye_color</th>\n",
       "            <th>hair_color</th>\n",
       "            <th>gender</th>\n",
       "            <th>plate_number</th>\n",
       "            <th>car_make</th>\n",
       "            <th>car_model</th>\n",
       "        </tr>\n",
       "    </thead>\n",
       "    <tbody>\n",
       "        <tr>\n",
       "            <td>423327</td>\n",
       "            <td>30</td>\n",
       "            <td>70</td>\n",
       "            <td>brown</td>\n",
       "            <td>brown</td>\n",
       "            <td>male</td>\n",
       "            <td>0H42W2</td>\n",
       "            <td>Chevrolet</td>\n",
       "            <td>Spark LS</td>\n",
       "        </tr>\n",
       "        <tr>\n",
       "            <td>664760</td>\n",
       "            <td>21</td>\n",
       "            <td>71</td>\n",
       "            <td>black</td>\n",
       "            <td>black</td>\n",
       "            <td>male</td>\n",
       "            <td>4H42WR</td>\n",
       "            <td>Nissan</td>\n",
       "            <td>Altima</td>\n",
       "        </tr>\n",
       "    </tbody>\n",
       "</table>"
      ],
      "text/plain": [
       "[(423327, 30, 70, 'brown', 'brown', 'male', '0H42W2', 'Chevrolet', 'Spark LS'),\n",
       " (664760, 21, 71, 'black', 'black', 'male', '4H42WR', 'Nissan', 'Altima')]"
      ]
     },
     "execution_count": 49,
     "metadata": {},
     "output_type": "execute_result"
    }
   ],
   "source": [
    "%%sql \n",
    "SELECT * FROM drivers_license\n",
    "WHERE plate_number LIKE \"%H42W%\" and gender ==\"male\";"
   ]
  },
  {
   "cell_type": "markdown",
   "id": "2f22a34b-6bd1-4724-bc75-3fc80e35b4af",
   "metadata": {},
   "source": [
    "Là encore on bloque ! On a deux suspects et à SQL City la politique est claire, on interpelle pas quelqu'un sans des preuves solides ! Uilisons donc la base de données sur les habitants de la ville"
   ]
  },
  {
   "cell_type": "code",
   "execution_count": 86,
   "id": "0851fb18-27d2-4a66-9184-a687ce01550b",
   "metadata": {},
   "outputs": [
    {
     "name": "stdout",
     "output_type": "stream",
     "text": [
      " * sqlite:///data/sql-murder-mystery.db\n",
      "Done.\n"
     ]
    },
    {
     "data": {
      "text/html": [
       "<table>\n",
       "    <thead>\n",
       "        <tr>\n",
       "            <th>cid</th>\n",
       "            <th>name</th>\n",
       "            <th>type</th>\n",
       "            <th>notnull</th>\n",
       "            <th>dflt_value</th>\n",
       "            <th>pk</th>\n",
       "        </tr>\n",
       "    </thead>\n",
       "    <tbody>\n",
       "        <tr>\n",
       "            <td>0</td>\n",
       "            <td>id</td>\n",
       "            <td>INTEGER</td>\n",
       "            <td>0</td>\n",
       "            <td>None</td>\n",
       "            <td>1</td>\n",
       "        </tr>\n",
       "        <tr>\n",
       "            <td>1</td>\n",
       "            <td>name</td>\n",
       "            <td>TEXT</td>\n",
       "            <td>0</td>\n",
       "            <td>None</td>\n",
       "            <td>0</td>\n",
       "        </tr>\n",
       "        <tr>\n",
       "            <td>2</td>\n",
       "            <td>license_id</td>\n",
       "            <td>INTEGER</td>\n",
       "            <td>0</td>\n",
       "            <td>None</td>\n",
       "            <td>0</td>\n",
       "        </tr>\n",
       "        <tr>\n",
       "            <td>3</td>\n",
       "            <td>address_number</td>\n",
       "            <td>INTEGER</td>\n",
       "            <td>0</td>\n",
       "            <td>None</td>\n",
       "            <td>0</td>\n",
       "        </tr>\n",
       "        <tr>\n",
       "            <td>4</td>\n",
       "            <td>address_street_name</td>\n",
       "            <td>TEXT</td>\n",
       "            <td>0</td>\n",
       "            <td>None</td>\n",
       "            <td>0</td>\n",
       "        </tr>\n",
       "        <tr>\n",
       "            <td>5</td>\n",
       "            <td>ssn</td>\n",
       "            <td>INTEGER</td>\n",
       "            <td>0</td>\n",
       "            <td>None</td>\n",
       "            <td>0</td>\n",
       "        </tr>\n",
       "    </tbody>\n",
       "</table>"
      ],
      "text/plain": [
       "[(0, 'id', 'INTEGER', 0, None, 1),\n",
       " (1, 'name', 'TEXT', 0, None, 0),\n",
       " (2, 'license_id', 'INTEGER', 0, None, 0),\n",
       " (3, 'address_number', 'INTEGER', 0, None, 0),\n",
       " (4, 'address_street_name', 'TEXT', 0, None, 0),\n",
       " (5, 'ssn', 'INTEGER', 0, None, 0)]"
      ]
     },
     "execution_count": 86,
     "metadata": {},
     "output_type": "execute_result"
    }
   ],
   "source": [
    "%%sql\n",
    "PRAGMA table_info(person);"
   ]
  },
  {
   "cell_type": "code",
   "execution_count": 150,
   "id": "60595fa0-55b1-410e-bcb3-47ca474807b2",
   "metadata": {},
   "outputs": [
    {
     "name": "stdout",
     "output_type": "stream",
     "text": [
      " * sqlite:///data/sql-murder-mystery.db\n",
      "Done.\n"
     ]
    },
    {
     "data": {
      "text/html": [
       "<table>\n",
       "    <thead>\n",
       "        <tr>\n",
       "            <th>id</th>\n",
       "            <th>name</th>\n",
       "            <th>license_id</th>\n",
       "            <th>address_number</th>\n",
       "            <th>address_street_name</th>\n",
       "            <th>ssn</th>\n",
       "        </tr>\n",
       "    </thead>\n",
       "    <tbody>\n",
       "        <tr>\n",
       "            <td>14887</td>\n",
       "            <td>Morty Schapiro</td>\n",
       "            <td>118009</td>\n",
       "            <td>4919</td>\n",
       "            <td>Northwestern Dr</td>\n",
       "            <td>111564949</td>\n",
       "        </tr>\n",
       "        <tr>\n",
       "            <td>16371</td>\n",
       "            <td>Annabel Miller</td>\n",
       "            <td>490173</td>\n",
       "            <td>103</td>\n",
       "            <td>Franklin Ave</td>\n",
       "            <td>318771143</td>\n",
       "        </tr>\n",
       "        <tr>\n",
       "            <td>28819</td>\n",
       "            <td>Joe Germuska</td>\n",
       "            <td>173289</td>\n",
       "            <td>111</td>\n",
       "            <td>Fisk Rd</td>\n",
       "            <td>138909730</td>\n",
       "        </tr>\n",
       "        <tr>\n",
       "            <td>51739</td>\n",
       "            <td>Tushar Chandra</td>\n",
       "            <td>664760</td>\n",
       "            <td>312</td>\n",
       "            <td>Phi St</td>\n",
       "            <td>137882671</td>\n",
       "        </tr>\n",
       "        <tr>\n",
       "            <td>67318</td>\n",
       "            <td>Jeremy Bowers</td>\n",
       "            <td>423327</td>\n",
       "            <td>530</td>\n",
       "            <td>Washington Pl, Apt 3A</td>\n",
       "            <td>871539279</td>\n",
       "        </tr>\n",
       "    </tbody>\n",
       "</table>"
      ],
      "text/plain": [
       "[(14887, 'Morty Schapiro', 118009, 4919, 'Northwestern Dr', 111564949),\n",
       " (16371, 'Annabel Miller', 490173, 103, 'Franklin Ave', 318771143),\n",
       " (28819, 'Joe Germuska', 173289, 111, 'Fisk Rd', 138909730),\n",
       " (51739, 'Tushar Chandra', 664760, 312, 'Phi St', 137882671),\n",
       " (67318, 'Jeremy Bowers', 423327, 530, 'Washington Pl, Apt 3A', 871539279)]"
      ]
     },
     "execution_count": 150,
     "metadata": {},
     "output_type": "execute_result"
    }
   ],
   "source": [
    "%%sql \n",
    "SELECT * FROM person\n",
    "WHERE name ==\"Joe Germuska\" or name==\"Jeremy Bowers\" or name==\"Morty Schapiro\" or name==\"Annabel Miller\" or license_id == 423327 or license_id == 664760 ;"
   ]
  },
  {
   "cell_type": "markdown",
   "id": "15b954c1-b603-4e47-aee6-0596ed77d142",
   "metadata": {},
   "source": [
    "Surprise un nouveau suspect ! A priori Joe Germuska n'a pas de voiture immatriculé avec la séquence \"H42W\". On va donc le mettre de côté. Mais là ducoup on vient littéralement d'échanger un suspect par un autre. On n'est pas plus avancé... Les deux suspects sont donc Tushar Chandra ou Jeremy Bowers! On peut essayer d'en apprendre plus sur ces deux suspects vis à vis du ssn via la base de données sur les income de nos individus."
   ]
  },
  {
   "cell_type": "code",
   "execution_count": 97,
   "id": "216b941a-eb9e-45b5-930c-0fd0056fd596",
   "metadata": {},
   "outputs": [
    {
     "name": "stdout",
     "output_type": "stream",
     "text": [
      " * sqlite:///data/sql-murder-mystery.db\n",
      "Done.\n"
     ]
    },
    {
     "data": {
      "text/html": [
       "<table>\n",
       "    <thead>\n",
       "        <tr>\n",
       "            <th>id</th>\n",
       "            <th>person_id</th>\n",
       "            <th>name</th>\n",
       "            <th>membership_start_date</th>\n",
       "            <th>membership_status</th>\n",
       "        </tr>\n",
       "    </thead>\n",
       "    <tbody>\n",
       "    </tbody>\n",
       "</table>"
      ],
      "text/plain": [
       "[]"
      ]
     },
     "execution_count": 97,
     "metadata": {},
     "output_type": "execute_result"
    }
   ],
   "source": [
    "%%sql \n",
    "SELECT * FROM get_fit_now_member \n",
    "WHERE name == \"Tushar Chandra\";"
   ]
  },
  {
   "cell_type": "code",
   "execution_count": 101,
   "id": "7f4d3719-a805-4c68-893e-ce0522c7d0ed",
   "metadata": {},
   "outputs": [
    {
     "name": "stdout",
     "output_type": "stream",
     "text": [
      " * sqlite:///data/sql-murder-mystery.db\n",
      "Done.\n"
     ]
    },
    {
     "data": {
      "text/html": [
       "<table>\n",
       "    <thead>\n",
       "        <tr>\n",
       "            <th>id</th>\n",
       "            <th>person_id</th>\n",
       "            <th>name</th>\n",
       "            <th>membership_start_date</th>\n",
       "            <th>membership_status</th>\n",
       "        </tr>\n",
       "    </thead>\n",
       "    <tbody>\n",
       "    </tbody>\n",
       "</table>"
      ],
      "text/plain": [
       "[]"
      ]
     },
     "execution_count": 101,
     "metadata": {},
     "output_type": "execute_result"
    }
   ],
   "source": [
    "%%sql \n",
    "SELECT * FROM get_fit_now_member \n",
    "WHERE name == \"%Chand%\";"
   ]
  },
  {
   "cell_type": "markdown",
   "id": "d80e5672-a408-4d06-95d4-3819b44734c7",
   "metadata": {},
   "source": [
    "On voit cependant que Tushar ne semble pas être un membre de la salle de sport. Ce qui nous limite à Jeremy Bowers ! On va donc tenter d'analyser ses posts facebook avec son person_id : 67318.\n",
    "On va quand même voir ce que nos deux autres suspects ont bien pu poster sur facebook : \n",
    "person_id de Joe Gemurska : 28819\t\n",
    "\n",
    "On va également regarder l'activité de nos témoins : 14887 et 16371\t"
   ]
  },
  {
   "cell_type": "code",
   "execution_count": 124,
   "id": "08fc8f6c-a2a3-4375-963e-60ac37df2c88",
   "metadata": {},
   "outputs": [
    {
     "name": "stdout",
     "output_type": "stream",
     "text": [
      " * sqlite:///data/sql-murder-mystery.db\n",
      "Done.\n"
     ]
    },
    {
     "data": {
      "text/html": [
       "<table>\n",
       "    <thead>\n",
       "        <tr>\n",
       "            <th>person_id</th>\n",
       "            <th>event_id</th>\n",
       "            <th>event_name</th>\n",
       "            <th>date</th>\n",
       "        </tr>\n",
       "    </thead>\n",
       "    <tbody>\n",
       "        <tr>\n",
       "            <td>14887</td>\n",
       "            <td>4719</td>\n",
       "            <td>The Funky Grooves Tour</td>\n",
       "            <td>20180115</td>\n",
       "        </tr>\n",
       "        <tr>\n",
       "            <td>16371</td>\n",
       "            <td>4719</td>\n",
       "            <td>The Funky Grooves Tour</td>\n",
       "            <td>20180115</td>\n",
       "        </tr>\n",
       "        <tr>\n",
       "            <td>67318</td>\n",
       "            <td>4719</td>\n",
       "            <td>The Funky Grooves Tour</td>\n",
       "            <td>20180115</td>\n",
       "        </tr>\n",
       "        <tr>\n",
       "            <td>67318</td>\n",
       "            <td>1143</td>\n",
       "            <td>SQL Symphony Concert</td>\n",
       "            <td>20171206</td>\n",
       "        </tr>\n",
       "    </tbody>\n",
       "</table>"
      ],
      "text/plain": [
       "[(14887, 4719, 'The Funky Grooves Tour', 20180115),\n",
       " (16371, 4719, 'The Funky Grooves Tour', 20180115),\n",
       " (67318, 4719, 'The Funky Grooves Tour', 20180115),\n",
       " (67318, 1143, 'SQL Symphony Concert', 20171206)]"
      ]
     },
     "execution_count": 124,
     "metadata": {},
     "output_type": "execute_result"
    }
   ],
   "source": [
    "%%sql \n",
    "SELECT * FROM facebook_event_checkin\n",
    "WHERE person_id == 67318 or person_id == 28819 or person_id == 14887 or person_id == 16371 ;"
   ]
  },
  {
   "cell_type": "code",
   "execution_count": 126,
   "id": "a4fa7961-5e7f-4196-bafd-5eba9b3434be",
   "metadata": {},
   "outputs": [
    {
     "name": "stdout",
     "output_type": "stream",
     "text": [
      " * sqlite:///data/sql-murder-mystery.db\n",
      "Done.\n"
     ]
    },
    {
     "data": {
      "text/html": [
       "<table>\n",
       "    <thead>\n",
       "        <tr>\n",
       "            <th>person_id</th>\n",
       "            <th>event_id</th>\n",
       "            <th>event_name</th>\n",
       "            <th>date</th>\n",
       "        </tr>\n",
       "    </thead>\n",
       "    <tbody>\n",
       "        <tr>\n",
       "            <td>56269</td>\n",
       "            <td>1753</td>\n",
       "            <td>&quot;I just need enough to tide me over until I need more.&quot;<br></td>\n",
       "            <td>20180115</td>\n",
       "        </tr>\n",
       "        <tr>\n",
       "            <td>12272</td>\n",
       "            <td>2831</td>\n",
       "            <td>Kinkler&#x27;s Second Law:<br></td>\n",
       "            <td>20180115</td>\n",
       "        </tr>\n",
       "        <tr>\n",
       "            <td>94218</td>\n",
       "            <td>1200</td>\n",
       "            <td>If a listener nods his head when you&#x27;re explaining your program, wake<br></td>\n",
       "            <td>20180115</td>\n",
       "        </tr>\n",
       "        <tr>\n",
       "            <td>73091</td>\n",
       "            <td>104</td>\n",
       "            <td>&nbsp;&nbsp;&nbsp;&nbsp;&nbsp;&nbsp;&nbsp;&nbsp;&quot;Diet.&quot;<br></td>\n",
       "            <td>20180115</td>\n",
       "        </tr>\n",
       "        <tr>\n",
       "            <td>20227</td>\n",
       "            <td>2513</td>\n",
       "            <td>It seems like the less a statesman amounts to, the more he loves the<br></td>\n",
       "            <td>20180115</td>\n",
       "        </tr>\n",
       "        <tr>\n",
       "            <td>29596</td>\n",
       "            <td>6072</td>\n",
       "            <td>&nbsp;&nbsp;&nbsp;&nbsp;&nbsp;&nbsp;&nbsp;&nbsp;&nbsp;&nbsp;&nbsp;&nbsp;&nbsp;&nbsp;&nbsp;&nbsp;-- Mark Twain<br></td>\n",
       "            <td>20180115</td>\n",
       "        </tr>\n",
       "        <tr>\n",
       "            <td>43451</td>\n",
       "            <td>5155</td>\n",
       "            <td>eat.<br></td>\n",
       "            <td>20180115</td>\n",
       "        </tr>\n",
       "        <tr>\n",
       "            <td>71108</td>\n",
       "            <td>1056</td>\n",
       "            <td>effort to teach them good manners.<br></td>\n",
       "            <td>20180115</td>\n",
       "        </tr>\n",
       "        <tr>\n",
       "            <td>39959</td>\n",
       "            <td>2513</td>\n",
       "            <td>Democracy is a form of government that substitutes election by the<br></td>\n",
       "            <td>20180115</td>\n",
       "        </tr>\n",
       "        <tr>\n",
       "            <td>38423</td>\n",
       "            <td>8548</td>\n",
       "            <td>pedestrians.<br></td>\n",
       "            <td>20180115</td>\n",
       "        </tr>\n",
       "        <tr>\n",
       "            <td>60433</td>\n",
       "            <td>3204</td>\n",
       "            <td>&nbsp;&nbsp;&nbsp;&nbsp;&nbsp;&nbsp;&nbsp;&nbsp;handle.<br></td>\n",
       "            <td>20180115</td>\n",
       "        </tr>\n",
       "        <tr>\n",
       "            <td>78037</td>\n",
       "            <td>9133</td>\n",
       "            <td>doing.<br></td>\n",
       "            <td>20180115</td>\n",
       "        </tr>\n",
       "        <tr>\n",
       "            <td>11376</td>\n",
       "            <td>9288</td>\n",
       "            <td>make the rubble bounce&quot;<br></td>\n",
       "            <td>20180115</td>\n",
       "        </tr>\n",
       "        <tr>\n",
       "            <td>23573</td>\n",
       "            <td>8777</td>\n",
       "            <td>There once was a girl named Irene<br></td>\n",
       "            <td>20180115</td>\n",
       "        </tr>\n",
       "        <tr>\n",
       "            <td>23523</td>\n",
       "            <td>3053</td>\n",
       "            <td>A: Three.  One to screw in the lightbulb and two to fend off all those<br></td>\n",
       "            <td>20180115</td>\n",
       "        </tr>\n",
       "        <tr>\n",
       "            <td>72518</td>\n",
       "            <td>2210</td>\n",
       "            <td>It&#x27;s not that I&#x27;m afraid to die.  I just don&#x27;t want to be there when it<br></td>\n",
       "            <td>20180115</td>\n",
       "        </tr>\n",
       "        <tr>\n",
       "            <td>88458</td>\n",
       "            <td>4290</td>\n",
       "            <td>First Rule of History:<br></td>\n",
       "            <td>20180115</td>\n",
       "        </tr>\n",
       "        <tr>\n",
       "            <td>82809</td>\n",
       "            <td>3999</td>\n",
       "            <td>said, &quot;Life is like a bowl of sour cream.&quot;<br></td>\n",
       "            <td>20180115</td>\n",
       "        </tr>\n",
       "        <tr>\n",
       "            <td>91104</td>\n",
       "            <td>9335</td>\n",
       "            <td>Children are natural mimic who act like their parents despite every<br></td>\n",
       "            <td>20180115</td>\n",
       "        </tr>\n",
       "        <tr>\n",
       "            <td>49525</td>\n",
       "            <td>6377</td>\n",
       "            <td>it.<br></td>\n",
       "            <td>20180115</td>\n",
       "        </tr>\n",
       "        <tr>\n",
       "            <td>85823</td>\n",
       "            <td>8012</td>\n",
       "            <td>&nbsp;&nbsp;&nbsp;&nbsp;&nbsp;&nbsp;&nbsp;&nbsp;&nbsp;&nbsp;&nbsp;&nbsp;&nbsp;&nbsp;&nbsp;&nbsp;-- Bruce Leverett<br></td>\n",
       "            <td>20180115</td>\n",
       "        </tr>\n",
       "        <tr>\n",
       "            <td>83030</td>\n",
       "            <td>3209</td>\n",
       "            <td>Real Programmers don&#x27;t play tennis, or any other sport that requires you to<br></td>\n",
       "            <td>20180115</td>\n",
       "        </tr>\n",
       "        <tr>\n",
       "            <td>28435</td>\n",
       "            <td>8193</td>\n",
       "            <td>Why did the Roman Empire collapse?  What is the Latin for office<br></td>\n",
       "            <td>20180115</td>\n",
       "        </tr>\n",
       "        <tr>\n",
       "            <td>23264</td>\n",
       "            <td>2731</td>\n",
       "            <td>That made it, paired by dot;<br></td>\n",
       "            <td>20180115</td>\n",
       "        </tr>\n",
       "        <tr>\n",
       "            <td>35366</td>\n",
       "            <td>4387</td>\n",
       "            <td>analyzed, and replaced with new weaknesses.<br></td>\n",
       "            <td>20180115</td>\n",
       "        </tr>\n",
       "        <tr>\n",
       "            <td>32037</td>\n",
       "            <td>6084</td>\n",
       "            <td>&nbsp;&nbsp;&nbsp;&nbsp;&nbsp;&nbsp;&nbsp;&nbsp;The mouse dissolved<br></td>\n",
       "            <td>20180115</td>\n",
       "        </tr>\n",
       "        <tr>\n",
       "            <td>85846</td>\n",
       "            <td>8360</td>\n",
       "            <td>&nbsp;&nbsp;&nbsp;&nbsp;&nbsp;&nbsp;&nbsp;&nbsp;&nbsp;&nbsp;&nbsp;&nbsp;&nbsp;&nbsp;&nbsp;&nbsp;-- Mickey Mouse<br></td>\n",
       "            <td>20180115</td>\n",
       "        </tr>\n",
       "        <tr>\n",
       "            <td>34256</td>\n",
       "            <td>3016</td>\n",
       "            <td>SPELL quiche.  They eat Twinkies, and Szechwan food.<br></td>\n",
       "            <td>20180115</td>\n",
       "        </tr>\n",
       "        <tr>\n",
       "            <td>29554</td>\n",
       "            <td>3952</td>\n",
       "            <td>&nbsp;&nbsp;&nbsp;&nbsp;&nbsp;&nbsp;&nbsp;&nbsp;stupidity.<br></td>\n",
       "            <td>20180115</td>\n",
       "        </tr>\n",
       "        <tr>\n",
       "            <td>89704</td>\n",
       "            <td>9956</td>\n",
       "            <td>a cynic&#x27;s eyes to improve his vision.<br></td>\n",
       "            <td>20180115</td>\n",
       "        </tr>\n",
       "        <tr>\n",
       "            <td>77714</td>\n",
       "            <td>8657</td>\n",
       "            <td>Whenever the literary German dives into a sentence, that is the last<br></td>\n",
       "            <td>20180115</td>\n",
       "        </tr>\n",
       "        <tr>\n",
       "            <td>40276</td>\n",
       "            <td>7364</td>\n",
       "            <td>hour!&quot;<br></td>\n",
       "            <td>20180115</td>\n",
       "        </tr>\n",
       "        <tr>\n",
       "            <td>58603</td>\n",
       "            <td>9624</td>\n",
       "            <td>&nbsp;&nbsp;&nbsp;&nbsp;&nbsp;&nbsp;&nbsp;&nbsp;live.<br></td>\n",
       "            <td>20180115</td>\n",
       "        </tr>\n",
       "        <tr>\n",
       "            <td>11971</td>\n",
       "            <td>737</td>\n",
       "            <td>&nbsp;&nbsp;&nbsp;&nbsp;&nbsp;&nbsp;&nbsp;&nbsp;&nbsp;&nbsp;&nbsp;&nbsp;&nbsp;&nbsp;&nbsp;&nbsp;-- John Barrymore&#x27;s dying words<br></td>\n",
       "            <td>20180115</td>\n",
       "        </tr>\n",
       "        <tr>\n",
       "            <td>74795</td>\n",
       "            <td>1878</td>\n",
       "            <td>You worry too much about your job.  Stop it.  You are not paid enough<br></td>\n",
       "            <td>20180115</td>\n",
       "        </tr>\n",
       "        <tr>\n",
       "            <td>57237</td>\n",
       "            <td>8650</td>\n",
       "            <td>usable, and it works, and if it breaks they&#x27;ll quickly tell you how to<br></td>\n",
       "            <td>20180115</td>\n",
       "        </tr>\n",
       "        <tr>\n",
       "            <td>72961</td>\n",
       "            <td>2918</td>\n",
       "            <td>Keep America beautiful.  Swallow your beer cans.<br></td>\n",
       "            <td>20180115</td>\n",
       "        </tr>\n",
       "        <tr>\n",
       "            <td>72961</td>\n",
       "            <td>7822</td>\n",
       "            <td>it.<br></td>\n",
       "            <td>20180115</td>\n",
       "        </tr>\n",
       "        <tr>\n",
       "            <td>46815</td>\n",
       "            <td>3378</td>\n",
       "            <td>computer science languages.  Strong typing is for people with weak memories. <br></td>\n",
       "            <td>20180115</td>\n",
       "        </tr>\n",
       "        <tr>\n",
       "            <td>50174</td>\n",
       "            <td>6517</td>\n",
       "            <td>revitalize the corner saloon.<br></td>\n",
       "            <td>20180115</td>\n",
       "        </tr>\n",
       "        <tr>\n",
       "            <td>90890</td>\n",
       "            <td>1600</td>\n",
       "            <td>&nbsp;&nbsp;&nbsp;&nbsp;&nbsp;&nbsp;&nbsp;&nbsp;&nbsp;&nbsp;&nbsp;&nbsp;&nbsp;&nbsp;&nbsp;&nbsp;-- Don Quinn<br></td>\n",
       "            <td>20180115</td>\n",
       "        </tr>\n",
       "        <tr>\n",
       "            <td>62131</td>\n",
       "            <td>7349</td>\n",
       "            <td>&nbsp;&nbsp;&nbsp;&nbsp;&nbsp;&nbsp;&nbsp;&nbsp;&quot;Diet.&quot;<br></td>\n",
       "            <td>20180115</td>\n",
       "        </tr>\n",
       "        <tr>\n",
       "            <td>53716</td>\n",
       "            <td>7684</td>\n",
       "            <td>immune to bullets&quot;<br></td>\n",
       "            <td>20180115</td>\n",
       "        </tr>\n",
       "        <tr>\n",
       "            <td>31705</td>\n",
       "            <td>7297</td>\n",
       "            <td>Don&#x27;t cook tonight -- starve a rat today!<br></td>\n",
       "            <td>20180115</td>\n",
       "        </tr>\n",
       "        <tr>\n",
       "            <td>14887</td>\n",
       "            <td>4719</td>\n",
       "            <td>The Funky Grooves Tour</td>\n",
       "            <td>20180115</td>\n",
       "        </tr>\n",
       "        <tr>\n",
       "            <td>16371</td>\n",
       "            <td>4719</td>\n",
       "            <td>The Funky Grooves Tour</td>\n",
       "            <td>20180115</td>\n",
       "        </tr>\n",
       "        <tr>\n",
       "            <td>67318</td>\n",
       "            <td>4719</td>\n",
       "            <td>The Funky Grooves Tour</td>\n",
       "            <td>20180115</td>\n",
       "        </tr>\n",
       "    </tbody>\n",
       "</table>"
      ],
      "text/plain": [
       "[(56269, 1753, '\"I just need enough to tide me over until I need more.\"\\n', 20180115),\n",
       " (12272, 2831, \"Kinkler's Second Law:\\n\", 20180115),\n",
       " (94218, 1200, \"If a listener nods his head when you're explaining your program, wake\\n\", 20180115),\n",
       " (73091, 104, '        \"Diet.\"\\n', 20180115),\n",
       " (20227, 2513, 'It seems like the less a statesman amounts to, the more he loves the\\n', 20180115),\n",
       " (29596, 6072, '                -- Mark Twain\\n', 20180115),\n",
       " (43451, 5155, 'eat.\\n', 20180115),\n",
       " (71108, 1056, 'effort to teach them good manners.\\n', 20180115),\n",
       " (39959, 2513, 'Democracy is a form of government that substitutes election by the\\n', 20180115),\n",
       " (38423, 8548, 'pedestrians.\\n', 20180115),\n",
       " (60433, 3204, '        handle.\\n', 20180115),\n",
       " (78037, 9133, 'doing.\\n', 20180115),\n",
       " (11376, 9288, 'make the rubble bounce\"\\n', 20180115),\n",
       " (23573, 8777, 'There once was a girl named Irene\\n', 20180115),\n",
       " (23523, 3053, 'A: Three.  One to screw in the lightbulb and two to fend off all those\\n', 20180115),\n",
       " (72518, 2210, \"It's not that I'm afraid to die.  I just don't want to be there when it\\n\", 20180115),\n",
       " (88458, 4290, 'First Rule of History:\\n', 20180115),\n",
       " (82809, 3999, 'said, \"Life is like a bowl of sour cream.\"\\n', 20180115),\n",
       " (91104, 9335, 'Children are natural mimic who act like their parents despite every\\n', 20180115),\n",
       " (49525, 6377, 'it.\\n', 20180115),\n",
       " (85823, 8012, '                -- Bruce Leverett\\n', 20180115),\n",
       " (83030, 3209, \"Real Programmers don't play tennis, or any other sport that requires you to\\n\", 20180115),\n",
       " (28435, 8193, 'Why did the Roman Empire collapse?  What is the Latin for office\\n', 20180115),\n",
       " (23264, 2731, 'That made it, paired by dot;\\n', 20180115),\n",
       " (35366, 4387, 'analyzed, and replaced with new weaknesses.\\n', 20180115),\n",
       " (32037, 6084, '        The mouse dissolved\\n', 20180115),\n",
       " (85846, 8360, '                -- Mickey Mouse\\n', 20180115),\n",
       " (34256, 3016, 'SPELL quiche.  They eat Twinkies, and Szechwan food.\\n', 20180115),\n",
       " (29554, 3952, '        stupidity.\\n', 20180115),\n",
       " (89704, 9956, \"a cynic's eyes to improve his vision.\\n\", 20180115),\n",
       " (77714, 8657, 'Whenever the literary German dives into a sentence, that is the last\\n', 20180115),\n",
       " (40276, 7364, 'hour!\"\\n', 20180115),\n",
       " (58603, 9624, '        live.\\n', 20180115),\n",
       " (11971, 737, \"                -- John Barrymore's dying words\\n\", 20180115),\n",
       " (74795, 1878, 'You worry too much about your job.  Stop it.  You are not paid enough\\n', 20180115),\n",
       " (57237, 8650, \"usable, and it works, and if it breaks they'll quickly tell you how to\\n\", 20180115),\n",
       " (72961, 2918, 'Keep America beautiful.  Swallow your beer cans.\\n', 20180115),\n",
       " (72961, 7822, 'it.\\n', 20180115),\n",
       " (46815, 3378, 'computer science languages.  Strong typing is for people with weak memories. \\n', 20180115),\n",
       " (50174, 6517, 'revitalize the corner saloon.\\n', 20180115),\n",
       " (90890, 1600, '                -- Don Quinn\\n', 20180115),\n",
       " (62131, 7349, '        \"Diet.\"\\n', 20180115),\n",
       " (53716, 7684, 'immune to bullets\"\\n', 20180115),\n",
       " (31705, 7297, \"Don't cook tonight -- starve a rat today!\\n\", 20180115),\n",
       " (14887, 4719, 'The Funky Grooves Tour', 20180115),\n",
       " (16371, 4719, 'The Funky Grooves Tour', 20180115),\n",
       " (67318, 4719, 'The Funky Grooves Tour', 20180115)]"
      ]
     },
     "execution_count": 126,
     "metadata": {},
     "output_type": "execute_result"
    }
   ],
   "source": [
    "%%sql \n",
    "SELECT * FROM facebook_event_checkin\n",
    "WHERE  date == 20180115;"
   ]
  },
  {
   "cell_type": "code",
   "execution_count": 112,
   "id": "f40a1519-40e6-4567-b87f-9e912c2c1da4",
   "metadata": {},
   "outputs": [
    {
     "name": "stdout",
     "output_type": "stream",
     "text": [
      " * sqlite:///data/sql-murder-mystery.db\n",
      "Done.\n"
     ]
    },
    {
     "data": {
      "text/html": [
       "<table>\n",
       "    <thead>\n",
       "        <tr>\n",
       "            <th>person_id</th>\n",
       "            <th>event_id</th>\n",
       "            <th>event_name</th>\n",
       "            <th>date</th>\n",
       "        </tr>\n",
       "    </thead>\n",
       "    <tbody>\n",
       "        <tr>\n",
       "            <td>69325</td>\n",
       "            <td>1143</td>\n",
       "            <td>SQL Symphony Concert</td>\n",
       "            <td>20171206</td>\n",
       "        </tr>\n",
       "        <tr>\n",
       "            <td>99716</td>\n",
       "            <td>1143</td>\n",
       "            <td>SQL Symphony Concert</td>\n",
       "            <td>20171206</td>\n",
       "        </tr>\n",
       "        <tr>\n",
       "            <td>67318</td>\n",
       "            <td>1143</td>\n",
       "            <td>SQL Symphony Concert</td>\n",
       "            <td>20171206</td>\n",
       "        </tr>\n",
       "    </tbody>\n",
       "</table>"
      ],
      "text/plain": [
       "[(69325, 1143, 'SQL Symphony Concert', 20171206),\n",
       " (99716, 1143, 'SQL Symphony Concert', 20171206),\n",
       " (67318, 1143, 'SQL Symphony Concert', 20171206)]"
      ]
     },
     "execution_count": 112,
     "metadata": {},
     "output_type": "execute_result"
    }
   ],
   "source": [
    "%%sql \n",
    "SELECT * FROM facebook_event_checkin\n",
    "WHERE event_name LIKE\"%SQL Symphony Concert%\" and date ==20171206;"
   ]
  },
  {
   "cell_type": "code",
   "execution_count": 123,
   "id": "61c30e06-606b-41a1-94ba-ced6114b3dcc",
   "metadata": {},
   "outputs": [
    {
     "name": "stdout",
     "output_type": "stream",
     "text": [
      " * sqlite:///data/sql-murder-mystery.db\n",
      "Done.\n"
     ]
    },
    {
     "data": {
      "text/html": [
       "<table>\n",
       "    <thead>\n",
       "        <tr>\n",
       "            <th>person_id</th>\n",
       "            <th>event_id</th>\n",
       "            <th>event_name</th>\n",
       "            <th>date</th>\n",
       "        </tr>\n",
       "    </thead>\n",
       "    <tbody>\n",
       "        <tr>\n",
       "            <td>67318</td>\n",
       "            <td>4719</td>\n",
       "            <td>The Funky Grooves Tour</td>\n",
       "            <td>20180115</td>\n",
       "        </tr>\n",
       "        <tr>\n",
       "            <td>67318</td>\n",
       "            <td>1143</td>\n",
       "            <td>SQL Symphony Concert</td>\n",
       "            <td>20171206</td>\n",
       "        </tr>\n",
       "    </tbody>\n",
       "</table>"
      ],
      "text/plain": [
       "[(67318, 4719, 'The Funky Grooves Tour', 20180115),\n",
       " (67318, 1143, 'SQL Symphony Concert', 20171206)]"
      ]
     },
     "execution_count": 123,
     "metadata": {},
     "output_type": "execute_result"
    }
   ],
   "source": [
    "%%sql \n",
    "SELECT * FROM facebook_event_checkin\n",
    "WHERE person_id == 67318 or person_id == 28819;"
   ]
  },
  {
   "cell_type": "code",
   "execution_count": null,
   "id": "bb580369-7923-4f3f-b13f-4f90fe197de3",
   "metadata": {},
   "outputs": [],
   "source": []
  },
  {
   "cell_type": "code",
   "execution_count": 87,
   "id": "bd01ee70-a84d-4001-9a8f-6be983db901a",
   "metadata": {},
   "outputs": [
    {
     "name": "stdout",
     "output_type": "stream",
     "text": [
      " * sqlite:///data/sql-murder-mystery.db\n",
      "Done.\n"
     ]
    },
    {
     "data": {
      "text/html": [
       "<table>\n",
       "    <thead>\n",
       "        <tr>\n",
       "            <th>cid</th>\n",
       "            <th>name</th>\n",
       "            <th>type</th>\n",
       "            <th>notnull</th>\n",
       "            <th>dflt_value</th>\n",
       "            <th>pk</th>\n",
       "        </tr>\n",
       "    </thead>\n",
       "    <tbody>\n",
       "        <tr>\n",
       "            <td>0</td>\n",
       "            <td>ssn</td>\n",
       "            <td>INTEGER</td>\n",
       "            <td>0</td>\n",
       "            <td>None</td>\n",
       "            <td>1</td>\n",
       "        </tr>\n",
       "        <tr>\n",
       "            <td>1</td>\n",
       "            <td>annual_income</td>\n",
       "            <td>INTEGER</td>\n",
       "            <td>0</td>\n",
       "            <td>None</td>\n",
       "            <td>0</td>\n",
       "        </tr>\n",
       "    </tbody>\n",
       "</table>"
      ],
      "text/plain": [
       "[(0, 'ssn', 'INTEGER', 0, None, 1),\n",
       " (1, 'annual_income', 'INTEGER', 0, None, 0)]"
      ]
     },
     "execution_count": 87,
     "metadata": {},
     "output_type": "execute_result"
    }
   ],
   "source": [
    "%%sql\n",
    "PRAGMA table_info(income);"
   ]
  },
  {
   "cell_type": "code",
   "execution_count": 91,
   "id": "1fe95b6d-3b89-4c81-a69b-a9b25811fd7d",
   "metadata": {},
   "outputs": [
    {
     "name": "stdout",
     "output_type": "stream",
     "text": [
      " * sqlite:///data/sql-murder-mystery.db\n",
      "Done.\n"
     ]
    },
    {
     "data": {
      "text/html": [
       "<table>\n",
       "    <thead>\n",
       "        <tr>\n",
       "            <th>ssn</th>\n",
       "            <th>annual_income</th>\n",
       "        </tr>\n",
       "    </thead>\n",
       "    <tbody>\n",
       "        <tr>\n",
       "            <td>871539279</td>\n",
       "            <td>10500</td>\n",
       "        </tr>\n",
       "    </tbody>\n",
       "</table>"
      ],
      "text/plain": [
       "[(871539279, 10500)]"
      ]
     },
     "execution_count": 91,
     "metadata": {},
     "output_type": "execute_result"
    }
   ],
   "source": [
    "%%sql \n",
    "SELECT * FROM income\n",
    "WHERE ssn ==137882671 or ssn==871539279;"
   ]
  },
  {
   "cell_type": "markdown",
   "id": "75e3fdba-9705-4f80-aa6b-36ead670f9e7",
   "metadata": {},
   "source": [
    "Pourquoi on ne retrouve que Jeremy Bowers ? "
   ]
  },
  {
   "cell_type": "code",
   "execution_count": null,
   "id": "6dc73ecf-602c-4a12-97ff-8c6f4bb517a3",
   "metadata": {},
   "outputs": [],
   "source": []
  },
  {
   "cell_type": "code",
   "execution_count": null,
   "id": "2210df80-6bfd-460c-82f8-04487961ac0c",
   "metadata": {},
   "outputs": [],
   "source": []
  },
  {
   "cell_type": "code",
   "execution_count": null,
   "id": "2333dae7-2049-44f1-a991-85a996a03eaa",
   "metadata": {},
   "outputs": [],
   "source": []
  },
  {
   "cell_type": "code",
   "execution_count": 92,
   "id": "3041566c-a9da-4752-9ba8-8ace3a1eab9c",
   "metadata": {},
   "outputs": [
    {
     "name": "stdout",
     "output_type": "stream",
     "text": [
      " * sqlite:///data/sql-murder-mystery.db\n",
      "Done.\n"
     ]
    },
    {
     "data": {
      "text/html": [
       "<table>\n",
       "    <thead>\n",
       "        <tr>\n",
       "            <th>cid</th>\n",
       "            <th>name</th>\n",
       "            <th>type</th>\n",
       "            <th>notnull</th>\n",
       "            <th>dflt_value</th>\n",
       "            <th>pk</th>\n",
       "        </tr>\n",
       "    </thead>\n",
       "    <tbody>\n",
       "        <tr>\n",
       "            <td>0</td>\n",
       "            <td>person_id</td>\n",
       "            <td>INTEGER</td>\n",
       "            <td>0</td>\n",
       "            <td>None</td>\n",
       "            <td>0</td>\n",
       "        </tr>\n",
       "        <tr>\n",
       "            <td>1</td>\n",
       "            <td>event_id</td>\n",
       "            <td>INTEGER</td>\n",
       "            <td>0</td>\n",
       "            <td>None</td>\n",
       "            <td>0</td>\n",
       "        </tr>\n",
       "        <tr>\n",
       "            <td>2</td>\n",
       "            <td>event_name</td>\n",
       "            <td>TEXT</td>\n",
       "            <td>0</td>\n",
       "            <td>None</td>\n",
       "            <td>0</td>\n",
       "        </tr>\n",
       "        <tr>\n",
       "            <td>3</td>\n",
       "            <td>date</td>\n",
       "            <td>INTEGER</td>\n",
       "            <td>0</td>\n",
       "            <td>None</td>\n",
       "            <td>0</td>\n",
       "        </tr>\n",
       "    </tbody>\n",
       "</table>"
      ],
      "text/plain": [
       "[(0, 'person_id', 'INTEGER', 0, None, 0),\n",
       " (1, 'event_id', 'INTEGER', 0, None, 0),\n",
       " (2, 'event_name', 'TEXT', 0, None, 0),\n",
       " (3, 'date', 'INTEGER', 0, None, 0)]"
      ]
     },
     "execution_count": 92,
     "metadata": {},
     "output_type": "execute_result"
    }
   ],
   "source": [
    "%%sql\n",
    "PRAGMA table_info(facebook_event_checkin);"
   ]
  },
  {
   "cell_type": "code",
   "execution_count": 62,
   "id": "38366051-3a6a-441d-baaf-419eaeb2e40f",
   "metadata": {},
   "outputs": [
    {
     "name": "stdout",
     "output_type": "stream",
     "text": [
      " * sqlite:///data/sql-murder-mystery.db\n",
      "Done.\n"
     ]
    },
    {
     "data": {
      "text/html": [
       "<table>\n",
       "    <thead>\n",
       "        <tr>\n",
       "            <th>person_id</th>\n",
       "            <th>event_id</th>\n",
       "            <th>event_name</th>\n",
       "            <th>date</th>\n",
       "        </tr>\n",
       "    </thead>\n",
       "    <tbody>\n",
       "        <tr>\n",
       "            <td>94828</td>\n",
       "            <td>8417</td>\n",
       "            <td>&nbsp;&nbsp;&nbsp;&nbsp;&nbsp;&nbsp;&nbsp;&nbsp;The one who has the gold makes the rules.<br></td>\n",
       "            <td>20180109</td>\n",
       "        </tr>\n",
       "    </tbody>\n",
       "</table>"
      ],
      "text/plain": [
       "[(94828, 8417, '        The one who has the gold makes the rules.\\n', 20180109)]"
      ]
     },
     "execution_count": 62,
     "metadata": {},
     "output_type": "execute_result"
    }
   ],
   "source": [
    "%%sql \n",
    "SELECT * FROM facebook_event_checkin\n",
    "WHERE date == 20180109 and event_name LIKE \"%gold%\" or event_name LIKE \"%Gym%\" or event_name LIKE \"%murder%\";"
   ]
  },
  {
   "cell_type": "code",
   "execution_count": 148,
   "id": "3dfeb7ac-a7bd-4e0c-b1c6-19590d079438",
   "metadata": {},
   "outputs": [
    {
     "name": "stdout",
     "output_type": "stream",
     "text": [
      " * sqlite:///data/sql-murder-mystery.db\n",
      "Done.\n"
     ]
    },
    {
     "data": {
      "text/html": [
       "<table>\n",
       "    <thead>\n",
       "        <tr>\n",
       "            <th>person_id</th>\n",
       "            <th>event_id</th>\n",
       "            <th>event_name</th>\n",
       "            <th>date</th>\n",
       "        </tr>\n",
       "    </thead>\n",
       "    <tbody>\n",
       "        <tr>\n",
       "            <td>94828</td>\n",
       "            <td>8417</td>\n",
       "            <td>&nbsp;&nbsp;&nbsp;&nbsp;&nbsp;&nbsp;&nbsp;&nbsp;The one who has the gold makes the rules.<br></td>\n",
       "            <td>20180109</td>\n",
       "        </tr>\n",
       "    </tbody>\n",
       "</table>"
      ],
      "text/plain": [
       "[(94828, 8417, '        The one who has the gold makes the rules.\\n', 20180109)]"
      ]
     },
     "execution_count": 148,
     "metadata": {},
     "output_type": "execute_result"
    }
   ],
   "source": [
    "%%sql \n",
    "SELECT * FROM facebook_event_checkin\n",
    "WHERE date == 20180109 and (event_name LIKE \"%gold%\" or event_name LIKE \"%Gym%\" or event_name LIKE \"%murder%\" or event_name LIKE \"%income%\") ;"
   ]
  },
  {
   "cell_type": "code",
   "execution_count": 147,
   "id": "1fc65398-f9f1-42c8-a91c-114032f3f83b",
   "metadata": {},
   "outputs": [
    {
     "name": "stdout",
     "output_type": "stream",
     "text": [
      " * sqlite:///data/sql-murder-mystery.db\n",
      "Done.\n"
     ]
    },
    {
     "data": {
      "text/html": [
       "<table>\n",
       "    <thead>\n",
       "        <tr>\n",
       "            <th>person_id</th>\n",
       "            <th>event_id</th>\n",
       "            <th>event_name</th>\n",
       "            <th>date</th>\n",
       "        </tr>\n",
       "    </thead>\n",
       "    <tbody>\n",
       "        <tr>\n",
       "            <td>56269</td>\n",
       "            <td>1753</td>\n",
       "            <td>&quot;I just need enough to tide me over until I need more.&quot;<br></td>\n",
       "            <td>20180115</td>\n",
       "        </tr>\n",
       "        <tr>\n",
       "            <td>12272</td>\n",
       "            <td>2831</td>\n",
       "            <td>Kinkler&#x27;s Second Law:<br></td>\n",
       "            <td>20180115</td>\n",
       "        </tr>\n",
       "        <tr>\n",
       "            <td>94218</td>\n",
       "            <td>1200</td>\n",
       "            <td>If a listener nods his head when you&#x27;re explaining your program, wake<br></td>\n",
       "            <td>20180115</td>\n",
       "        </tr>\n",
       "        <tr>\n",
       "            <td>73091</td>\n",
       "            <td>104</td>\n",
       "            <td>&nbsp;&nbsp;&nbsp;&nbsp;&nbsp;&nbsp;&nbsp;&nbsp;&quot;Diet.&quot;<br></td>\n",
       "            <td>20180115</td>\n",
       "        </tr>\n",
       "        <tr>\n",
       "            <td>20227</td>\n",
       "            <td>2513</td>\n",
       "            <td>It seems like the less a statesman amounts to, the more he loves the<br></td>\n",
       "            <td>20180115</td>\n",
       "        </tr>\n",
       "        <tr>\n",
       "            <td>29596</td>\n",
       "            <td>6072</td>\n",
       "            <td>&nbsp;&nbsp;&nbsp;&nbsp;&nbsp;&nbsp;&nbsp;&nbsp;&nbsp;&nbsp;&nbsp;&nbsp;&nbsp;&nbsp;&nbsp;&nbsp;-- Mark Twain<br></td>\n",
       "            <td>20180115</td>\n",
       "        </tr>\n",
       "        <tr>\n",
       "            <td>43451</td>\n",
       "            <td>5155</td>\n",
       "            <td>eat.<br></td>\n",
       "            <td>20180115</td>\n",
       "        </tr>\n",
       "        <tr>\n",
       "            <td>71108</td>\n",
       "            <td>1056</td>\n",
       "            <td>effort to teach them good manners.<br></td>\n",
       "            <td>20180115</td>\n",
       "        </tr>\n",
       "        <tr>\n",
       "            <td>39959</td>\n",
       "            <td>2513</td>\n",
       "            <td>Democracy is a form of government that substitutes election by the<br></td>\n",
       "            <td>20180115</td>\n",
       "        </tr>\n",
       "        <tr>\n",
       "            <td>38423</td>\n",
       "            <td>8548</td>\n",
       "            <td>pedestrians.<br></td>\n",
       "            <td>20180115</td>\n",
       "        </tr>\n",
       "        <tr>\n",
       "            <td>60433</td>\n",
       "            <td>3204</td>\n",
       "            <td>&nbsp;&nbsp;&nbsp;&nbsp;&nbsp;&nbsp;&nbsp;&nbsp;handle.<br></td>\n",
       "            <td>20180115</td>\n",
       "        </tr>\n",
       "        <tr>\n",
       "            <td>78037</td>\n",
       "            <td>9133</td>\n",
       "            <td>doing.<br></td>\n",
       "            <td>20180115</td>\n",
       "        </tr>\n",
       "        <tr>\n",
       "            <td>11376</td>\n",
       "            <td>9288</td>\n",
       "            <td>make the rubble bounce&quot;<br></td>\n",
       "            <td>20180115</td>\n",
       "        </tr>\n",
       "        <tr>\n",
       "            <td>23573</td>\n",
       "            <td>8777</td>\n",
       "            <td>There once was a girl named Irene<br></td>\n",
       "            <td>20180115</td>\n",
       "        </tr>\n",
       "        <tr>\n",
       "            <td>23523</td>\n",
       "            <td>3053</td>\n",
       "            <td>A: Three.  One to screw in the lightbulb and two to fend off all those<br></td>\n",
       "            <td>20180115</td>\n",
       "        </tr>\n",
       "        <tr>\n",
       "            <td>72518</td>\n",
       "            <td>2210</td>\n",
       "            <td>It&#x27;s not that I&#x27;m afraid to die.  I just don&#x27;t want to be there when it<br></td>\n",
       "            <td>20180115</td>\n",
       "        </tr>\n",
       "        <tr>\n",
       "            <td>88458</td>\n",
       "            <td>4290</td>\n",
       "            <td>First Rule of History:<br></td>\n",
       "            <td>20180115</td>\n",
       "        </tr>\n",
       "        <tr>\n",
       "            <td>82809</td>\n",
       "            <td>3999</td>\n",
       "            <td>said, &quot;Life is like a bowl of sour cream.&quot;<br></td>\n",
       "            <td>20180115</td>\n",
       "        </tr>\n",
       "        <tr>\n",
       "            <td>91104</td>\n",
       "            <td>9335</td>\n",
       "            <td>Children are natural mimic who act like their parents despite every<br></td>\n",
       "            <td>20180115</td>\n",
       "        </tr>\n",
       "        <tr>\n",
       "            <td>49525</td>\n",
       "            <td>6377</td>\n",
       "            <td>it.<br></td>\n",
       "            <td>20180115</td>\n",
       "        </tr>\n",
       "        <tr>\n",
       "            <td>85823</td>\n",
       "            <td>8012</td>\n",
       "            <td>&nbsp;&nbsp;&nbsp;&nbsp;&nbsp;&nbsp;&nbsp;&nbsp;&nbsp;&nbsp;&nbsp;&nbsp;&nbsp;&nbsp;&nbsp;&nbsp;-- Bruce Leverett<br></td>\n",
       "            <td>20180115</td>\n",
       "        </tr>\n",
       "        <tr>\n",
       "            <td>83030</td>\n",
       "            <td>3209</td>\n",
       "            <td>Real Programmers don&#x27;t play tennis, or any other sport that requires you to<br></td>\n",
       "            <td>20180115</td>\n",
       "        </tr>\n",
       "        <tr>\n",
       "            <td>28435</td>\n",
       "            <td>8193</td>\n",
       "            <td>Why did the Roman Empire collapse?  What is the Latin for office<br></td>\n",
       "            <td>20180115</td>\n",
       "        </tr>\n",
       "        <tr>\n",
       "            <td>23264</td>\n",
       "            <td>2731</td>\n",
       "            <td>That made it, paired by dot;<br></td>\n",
       "            <td>20180115</td>\n",
       "        </tr>\n",
       "        <tr>\n",
       "            <td>35366</td>\n",
       "            <td>4387</td>\n",
       "            <td>analyzed, and replaced with new weaknesses.<br></td>\n",
       "            <td>20180115</td>\n",
       "        </tr>\n",
       "        <tr>\n",
       "            <td>32037</td>\n",
       "            <td>6084</td>\n",
       "            <td>&nbsp;&nbsp;&nbsp;&nbsp;&nbsp;&nbsp;&nbsp;&nbsp;The mouse dissolved<br></td>\n",
       "            <td>20180115</td>\n",
       "        </tr>\n",
       "        <tr>\n",
       "            <td>85846</td>\n",
       "            <td>8360</td>\n",
       "            <td>&nbsp;&nbsp;&nbsp;&nbsp;&nbsp;&nbsp;&nbsp;&nbsp;&nbsp;&nbsp;&nbsp;&nbsp;&nbsp;&nbsp;&nbsp;&nbsp;-- Mickey Mouse<br></td>\n",
       "            <td>20180115</td>\n",
       "        </tr>\n",
       "        <tr>\n",
       "            <td>34256</td>\n",
       "            <td>3016</td>\n",
       "            <td>SPELL quiche.  They eat Twinkies, and Szechwan food.<br></td>\n",
       "            <td>20180115</td>\n",
       "        </tr>\n",
       "        <tr>\n",
       "            <td>29554</td>\n",
       "            <td>3952</td>\n",
       "            <td>&nbsp;&nbsp;&nbsp;&nbsp;&nbsp;&nbsp;&nbsp;&nbsp;stupidity.<br></td>\n",
       "            <td>20180115</td>\n",
       "        </tr>\n",
       "        <tr>\n",
       "            <td>89704</td>\n",
       "            <td>9956</td>\n",
       "            <td>a cynic&#x27;s eyes to improve his vision.<br></td>\n",
       "            <td>20180115</td>\n",
       "        </tr>\n",
       "        <tr>\n",
       "            <td>77714</td>\n",
       "            <td>8657</td>\n",
       "            <td>Whenever the literary German dives into a sentence, that is the last<br></td>\n",
       "            <td>20180115</td>\n",
       "        </tr>\n",
       "        <tr>\n",
       "            <td>40276</td>\n",
       "            <td>7364</td>\n",
       "            <td>hour!&quot;<br></td>\n",
       "            <td>20180115</td>\n",
       "        </tr>\n",
       "        <tr>\n",
       "            <td>58603</td>\n",
       "            <td>9624</td>\n",
       "            <td>&nbsp;&nbsp;&nbsp;&nbsp;&nbsp;&nbsp;&nbsp;&nbsp;live.<br></td>\n",
       "            <td>20180115</td>\n",
       "        </tr>\n",
       "        <tr>\n",
       "            <td>11971</td>\n",
       "            <td>737</td>\n",
       "            <td>&nbsp;&nbsp;&nbsp;&nbsp;&nbsp;&nbsp;&nbsp;&nbsp;&nbsp;&nbsp;&nbsp;&nbsp;&nbsp;&nbsp;&nbsp;&nbsp;-- John Barrymore&#x27;s dying words<br></td>\n",
       "            <td>20180115</td>\n",
       "        </tr>\n",
       "        <tr>\n",
       "            <td>74795</td>\n",
       "            <td>1878</td>\n",
       "            <td>You worry too much about your job.  Stop it.  You are not paid enough<br></td>\n",
       "            <td>20180115</td>\n",
       "        </tr>\n",
       "        <tr>\n",
       "            <td>57237</td>\n",
       "            <td>8650</td>\n",
       "            <td>usable, and it works, and if it breaks they&#x27;ll quickly tell you how to<br></td>\n",
       "            <td>20180115</td>\n",
       "        </tr>\n",
       "        <tr>\n",
       "            <td>72961</td>\n",
       "            <td>2918</td>\n",
       "            <td>Keep America beautiful.  Swallow your beer cans.<br></td>\n",
       "            <td>20180115</td>\n",
       "        </tr>\n",
       "        <tr>\n",
       "            <td>72961</td>\n",
       "            <td>7822</td>\n",
       "            <td>it.<br></td>\n",
       "            <td>20180115</td>\n",
       "        </tr>\n",
       "        <tr>\n",
       "            <td>46815</td>\n",
       "            <td>3378</td>\n",
       "            <td>computer science languages.  Strong typing is for people with weak memories. <br></td>\n",
       "            <td>20180115</td>\n",
       "        </tr>\n",
       "        <tr>\n",
       "            <td>50174</td>\n",
       "            <td>6517</td>\n",
       "            <td>revitalize the corner saloon.<br></td>\n",
       "            <td>20180115</td>\n",
       "        </tr>\n",
       "        <tr>\n",
       "            <td>90890</td>\n",
       "            <td>1600</td>\n",
       "            <td>&nbsp;&nbsp;&nbsp;&nbsp;&nbsp;&nbsp;&nbsp;&nbsp;&nbsp;&nbsp;&nbsp;&nbsp;&nbsp;&nbsp;&nbsp;&nbsp;-- Don Quinn<br></td>\n",
       "            <td>20180115</td>\n",
       "        </tr>\n",
       "        <tr>\n",
       "            <td>62131</td>\n",
       "            <td>7349</td>\n",
       "            <td>&nbsp;&nbsp;&nbsp;&nbsp;&nbsp;&nbsp;&nbsp;&nbsp;&quot;Diet.&quot;<br></td>\n",
       "            <td>20180115</td>\n",
       "        </tr>\n",
       "        <tr>\n",
       "            <td>53716</td>\n",
       "            <td>7684</td>\n",
       "            <td>immune to bullets&quot;<br></td>\n",
       "            <td>20180115</td>\n",
       "        </tr>\n",
       "        <tr>\n",
       "            <td>31705</td>\n",
       "            <td>7297</td>\n",
       "            <td>Don&#x27;t cook tonight -- starve a rat today!<br></td>\n",
       "            <td>20180115</td>\n",
       "        </tr>\n",
       "        <tr>\n",
       "            <td>14887</td>\n",
       "            <td>4719</td>\n",
       "            <td>The Funky Grooves Tour</td>\n",
       "            <td>20180115</td>\n",
       "        </tr>\n",
       "        <tr>\n",
       "            <td>16371</td>\n",
       "            <td>4719</td>\n",
       "            <td>The Funky Grooves Tour</td>\n",
       "            <td>20180115</td>\n",
       "        </tr>\n",
       "        <tr>\n",
       "            <td>67318</td>\n",
       "            <td>4719</td>\n",
       "            <td>The Funky Grooves Tour</td>\n",
       "            <td>20180115</td>\n",
       "        </tr>\n",
       "    </tbody>\n",
       "</table>"
      ],
      "text/plain": [
       "[(56269, 1753, '\"I just need enough to tide me over until I need more.\"\\n', 20180115),\n",
       " (12272, 2831, \"Kinkler's Second Law:\\n\", 20180115),\n",
       " (94218, 1200, \"If a listener nods his head when you're explaining your program, wake\\n\", 20180115),\n",
       " (73091, 104, '        \"Diet.\"\\n', 20180115),\n",
       " (20227, 2513, 'It seems like the less a statesman amounts to, the more he loves the\\n', 20180115),\n",
       " (29596, 6072, '                -- Mark Twain\\n', 20180115),\n",
       " (43451, 5155, 'eat.\\n', 20180115),\n",
       " (71108, 1056, 'effort to teach them good manners.\\n', 20180115),\n",
       " (39959, 2513, 'Democracy is a form of government that substitutes election by the\\n', 20180115),\n",
       " (38423, 8548, 'pedestrians.\\n', 20180115),\n",
       " (60433, 3204, '        handle.\\n', 20180115),\n",
       " (78037, 9133, 'doing.\\n', 20180115),\n",
       " (11376, 9288, 'make the rubble bounce\"\\n', 20180115),\n",
       " (23573, 8777, 'There once was a girl named Irene\\n', 20180115),\n",
       " (23523, 3053, 'A: Three.  One to screw in the lightbulb and two to fend off all those\\n', 20180115),\n",
       " (72518, 2210, \"It's not that I'm afraid to die.  I just don't want to be there when it\\n\", 20180115),\n",
       " (88458, 4290, 'First Rule of History:\\n', 20180115),\n",
       " (82809, 3999, 'said, \"Life is like a bowl of sour cream.\"\\n', 20180115),\n",
       " (91104, 9335, 'Children are natural mimic who act like their parents despite every\\n', 20180115),\n",
       " (49525, 6377, 'it.\\n', 20180115),\n",
       " (85823, 8012, '                -- Bruce Leverett\\n', 20180115),\n",
       " (83030, 3209, \"Real Programmers don't play tennis, or any other sport that requires you to\\n\", 20180115),\n",
       " (28435, 8193, 'Why did the Roman Empire collapse?  What is the Latin for office\\n', 20180115),\n",
       " (23264, 2731, 'That made it, paired by dot;\\n', 20180115),\n",
       " (35366, 4387, 'analyzed, and replaced with new weaknesses.\\n', 20180115),\n",
       " (32037, 6084, '        The mouse dissolved\\n', 20180115),\n",
       " (85846, 8360, '                -- Mickey Mouse\\n', 20180115),\n",
       " (34256, 3016, 'SPELL quiche.  They eat Twinkies, and Szechwan food.\\n', 20180115),\n",
       " (29554, 3952, '        stupidity.\\n', 20180115),\n",
       " (89704, 9956, \"a cynic's eyes to improve his vision.\\n\", 20180115),\n",
       " (77714, 8657, 'Whenever the literary German dives into a sentence, that is the last\\n', 20180115),\n",
       " (40276, 7364, 'hour!\"\\n', 20180115),\n",
       " (58603, 9624, '        live.\\n', 20180115),\n",
       " (11971, 737, \"                -- John Barrymore's dying words\\n\", 20180115),\n",
       " (74795, 1878, 'You worry too much about your job.  Stop it.  You are not paid enough\\n', 20180115),\n",
       " (57237, 8650, \"usable, and it works, and if it breaks they'll quickly tell you how to\\n\", 20180115),\n",
       " (72961, 2918, 'Keep America beautiful.  Swallow your beer cans.\\n', 20180115),\n",
       " (72961, 7822, 'it.\\n', 20180115),\n",
       " (46815, 3378, 'computer science languages.  Strong typing is for people with weak memories. \\n', 20180115),\n",
       " (50174, 6517, 'revitalize the corner saloon.\\n', 20180115),\n",
       " (90890, 1600, '                -- Don Quinn\\n', 20180115),\n",
       " (62131, 7349, '        \"Diet.\"\\n', 20180115),\n",
       " (53716, 7684, 'immune to bullets\"\\n', 20180115),\n",
       " (31705, 7297, \"Don't cook tonight -- starve a rat today!\\n\", 20180115),\n",
       " (14887, 4719, 'The Funky Grooves Tour', 20180115),\n",
       " (16371, 4719, 'The Funky Grooves Tour', 20180115),\n",
       " (67318, 4719, 'The Funky Grooves Tour', 20180115)]"
      ]
     },
     "execution_count": 147,
     "metadata": {},
     "output_type": "execute_result"
    }
   ],
   "source": [
    "%%sql \n",
    "SELECT * FROM facebook_event_checkin\n",
    "WHERE date == 20180115  ;"
   ]
  },
  {
   "cell_type": "code",
   "execution_count": 162,
   "id": "9dccda4c-d868-4df7-bacd-1b4e60a04729",
   "metadata": {},
   "outputs": [
    {
     "name": "stdout",
     "output_type": "stream",
     "text": [
      " * sqlite:///data/sql-murder-mystery.db\n",
      "Done.\n"
     ]
    },
    {
     "data": {
      "text/html": [
       "<table>\n",
       "    <thead>\n",
       "        <tr>\n",
       "            <th>person_id</th>\n",
       "            <th>event_id</th>\n",
       "            <th>event_name</th>\n",
       "            <th>date</th>\n",
       "        </tr>\n",
       "    </thead>\n",
       "    <tbody>\n",
       "        <tr>\n",
       "            <td>72898</td>\n",
       "            <td>8431</td>\n",
       "            <td>this garbage, having passed through a very expensive machine, is<br></td>\n",
       "            <td>20171215</td>\n",
       "        </tr>\n",
       "        <tr>\n",
       "            <td>26591</td>\n",
       "            <td>8341</td>\n",
       "            <td>this garbage, having passed through a very expensive machine, is<br></td>\n",
       "            <td>20180324</td>\n",
       "        </tr>\n",
       "        <tr>\n",
       "            <td>61241</td>\n",
       "            <td>232</td>\n",
       "            <td>this garbage, having passed through a very expensive machine, is<br></td>\n",
       "            <td>20170329</td>\n",
       "        </tr>\n",
       "        <tr>\n",
       "            <td>37533</td>\n",
       "            <td>158</td>\n",
       "            <td>this garbage, having passed through a very expensive machine, is<br></td>\n",
       "            <td>20180324</td>\n",
       "        </tr>\n",
       "        <tr>\n",
       "            <td>96830</td>\n",
       "            <td>3841</td>\n",
       "            <td>this garbage, having passed through a very expensive machine, is<br></td>\n",
       "            <td>20171204</td>\n",
       "        </tr>\n",
       "        <tr>\n",
       "            <td>25621</td>\n",
       "            <td>1519</td>\n",
       "            <td>this garbage, having passed through a very expensive machine, is<br></td>\n",
       "            <td>20180322</td>\n",
       "        </tr>\n",
       "        <tr>\n",
       "            <td>29787</td>\n",
       "            <td>8515</td>\n",
       "            <td>this garbage, having passed through a very expensive machine, is<br></td>\n",
       "            <td>20180201</td>\n",
       "        </tr>\n",
       "        <tr>\n",
       "            <td>64439</td>\n",
       "            <td>493</td>\n",
       "            <td>this garbage, having passed through a very expensive machine, is<br></td>\n",
       "            <td>20171107</td>\n",
       "        </tr>\n",
       "        <tr>\n",
       "            <td>73198</td>\n",
       "            <td>4464</td>\n",
       "            <td>this garbage, having passed through a very expensive machine, is<br></td>\n",
       "            <td>20170524</td>\n",
       "        </tr>\n",
       "        <tr>\n",
       "            <td>46239</td>\n",
       "            <td>8082</td>\n",
       "            <td>this garbage, having passed through a very expensive machine, is<br></td>\n",
       "            <td>20180219</td>\n",
       "        </tr>\n",
       "        <tr>\n",
       "            <td>51320</td>\n",
       "            <td>765</td>\n",
       "            <td>this garbage, having passed through a very expensive machine, is<br></td>\n",
       "            <td>20170205</td>\n",
       "        </tr>\n",
       "        <tr>\n",
       "            <td>39375</td>\n",
       "            <td>1054</td>\n",
       "            <td>this garbage, having passed through a very expensive machine, is<br></td>\n",
       "            <td>20170623</td>\n",
       "        </tr>\n",
       "        <tr>\n",
       "            <td>87489</td>\n",
       "            <td>541</td>\n",
       "            <td>this garbage, having passed through a very expensive machine, is<br></td>\n",
       "            <td>20170102</td>\n",
       "        </tr>\n",
       "        <tr>\n",
       "            <td>81476</td>\n",
       "            <td>4961</td>\n",
       "            <td>this garbage, having passed through a very expensive machine, is<br></td>\n",
       "            <td>20180304</td>\n",
       "        </tr>\n",
       "        <tr>\n",
       "            <td>79264</td>\n",
       "            <td>8976</td>\n",
       "            <td>this garbage, having passed through a very expensive machine, is<br></td>\n",
       "            <td>20170806</td>\n",
       "        </tr>\n",
       "        <tr>\n",
       "            <td>82760</td>\n",
       "            <td>8040</td>\n",
       "            <td>this garbage, having passed through a very expensive machine, is<br></td>\n",
       "            <td>20171125</td>\n",
       "        </tr>\n",
       "        <tr>\n",
       "            <td>14887</td>\n",
       "            <td>4719</td>\n",
       "            <td>The Funky Grooves Tour</td>\n",
       "            <td>20180115</td>\n",
       "        </tr>\n",
       "        <tr>\n",
       "            <td>16371</td>\n",
       "            <td>4719</td>\n",
       "            <td>The Funky Grooves Tour</td>\n",
       "            <td>20180115</td>\n",
       "        </tr>\n",
       "        <tr>\n",
       "            <td>67318</td>\n",
       "            <td>4719</td>\n",
       "            <td>The Funky Grooves Tour</td>\n",
       "            <td>20180115</td>\n",
       "        </tr>\n",
       "    </tbody>\n",
       "</table>"
      ],
      "text/plain": [
       "[(72898, 8431, 'this garbage, having passed through a very expensive machine, is\\n', 20171215),\n",
       " (26591, 8341, 'this garbage, having passed through a very expensive machine, is\\n', 20180324),\n",
       " (61241, 232, 'this garbage, having passed through a very expensive machine, is\\n', 20170329),\n",
       " (37533, 158, 'this garbage, having passed through a very expensive machine, is\\n', 20180324),\n",
       " (96830, 3841, 'this garbage, having passed through a very expensive machine, is\\n', 20171204),\n",
       " (25621, 1519, 'this garbage, having passed through a very expensive machine, is\\n', 20180322),\n",
       " (29787, 8515, 'this garbage, having passed through a very expensive machine, is\\n', 20180201),\n",
       " (64439, 493, 'this garbage, having passed through a very expensive machine, is\\n', 20171107),\n",
       " (73198, 4464, 'this garbage, having passed through a very expensive machine, is\\n', 20170524),\n",
       " (46239, 8082, 'this garbage, having passed through a very expensive machine, is\\n', 20180219),\n",
       " (51320, 765, 'this garbage, having passed through a very expensive machine, is\\n', 20170205),\n",
       " (39375, 1054, 'this garbage, having passed through a very expensive machine, is\\n', 20170623),\n",
       " (87489, 541, 'this garbage, having passed through a very expensive machine, is\\n', 20170102),\n",
       " (81476, 4961, 'this garbage, having passed through a very expensive machine, is\\n', 20180304),\n",
       " (79264, 8976, 'this garbage, having passed through a very expensive machine, is\\n', 20170806),\n",
       " (82760, 8040, 'this garbage, having passed through a very expensive machine, is\\n', 20171125),\n",
       " (14887, 4719, 'The Funky Grooves Tour', 20180115),\n",
       " (16371, 4719, 'The Funky Grooves Tour', 20180115),\n",
       " (67318, 4719, 'The Funky Grooves Tour', 20180115)]"
      ]
     },
     "execution_count": 162,
     "metadata": {},
     "output_type": "execute_result"
    }
   ],
   "source": [
    "%%sql \n",
    "SELECT * FROM facebook_event_checkin\n",
    "WHERE event_name LIKE \"%expensive%\" or event_name LIKE \"%Funky%\" and date LIKE \"2018%%%%\" ;"
   ]
  },
  {
   "cell_type": "code",
   "execution_count": null,
   "id": "1c99699b-e3f0-4b7c-a2ea-58973a6066ab",
   "metadata": {},
   "outputs": [],
   "source": []
  }
 ],
 "metadata": {
  "kernelspec": {
   "display_name": "Python 3 (ipykernel)",
   "language": "python",
   "name": "python3"
  },
  "language_info": {
   "codemirror_mode": {
    "name": "ipython",
    "version": 3
   },
   "file_extension": ".py",
   "mimetype": "text/x-python",
   "name": "python",
   "nbconvert_exporter": "python",
   "pygments_lexer": "ipython3",
   "version": "3.11.7"
  }
 },
 "nbformat": 4,
 "nbformat_minor": 5
}
