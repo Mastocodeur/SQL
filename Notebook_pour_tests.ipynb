{
 "cells": [
  {
   "cell_type": "code",
   "execution_count": 1,
   "id": "03ed08c0-e0b9-4263-817e-27580c62721a",
   "metadata": {},
   "outputs": [],
   "source": [
    "import pandas as pd"
   ]
  },
  {
   "cell_type": "code",
   "execution_count": 89,
   "id": "706b0d79-4621-45b8-a6a0-d58cdf90e81f",
   "metadata": {},
   "outputs": [],
   "source": [
    "df = pd.read_excel(\"liste_enigme_test.xlsx\")"
   ]
  },
  {
   "cell_type": "code",
   "execution_count": 79,
   "id": "eb49cf80-3881-4024-8a54-765e7caf19c9",
   "metadata": {},
   "outputs": [],
   "source": [
    "titre = df[\"Titre\"]\n",
    "titre = titre.tolist()"
   ]
  },
  {
   "cell_type": "code",
   "execution_count": 14,
   "id": "a0d892e3-031c-4a69-8dd7-3f023edf041a",
   "metadata": {},
   "outputs": [
    {
     "name": "stdout",
     "output_type": "stream",
     "text": [
      "Le S.A.V. Bouygues Telecom\n",
      "Elephant in the room\n",
      "Elephant in the crowd\n",
      "L'âge des ormeaux\n",
      "Factures en folie\n",
      "Analyse d'émotions\n",
      "Compter les moutons\n",
      "Annotation\n",
      "Data Quality\n",
      "Data Viz \n",
      "Explicabilité\n",
      "Dérive\n",
      "nan\n"
     ]
    }
   ],
   "source": [
    "for x in titre:\n",
    "    print(x)"
   ]
  },
  {
   "cell_type": "code",
   "execution_count": 12,
   "id": "a74cea77-6cb5-4681-89ad-009acd594fd9",
   "metadata": {},
   "outputs": [
    {
     "name": "stdout",
     "output_type": "stream",
     "text": [
      "0     Le S.A.V. Bouygues Telecom\n",
      "1           Elephant in the room\n",
      "2          Elephant in the crowd\n",
      "3              L'âge des ormeaux\n",
      "4              Factures en folie\n",
      "5             Analyse d'émotions\n",
      "6            Compter les moutons\n",
      "7                     Annotation\n",
      "8                   Data Quality\n",
      "9                      Data Viz \n",
      "10                 Explicabilité\n",
      "11                        Dérive\n",
      "Name: Titre, dtype: object\n"
     ]
    }
   ],
   "source": [
    "print(titre[:-1])"
   ]
  },
  {
   "cell_type": "code",
   "execution_count": 18,
   "id": "294f5a7d-4fce-4483-8f06-4a602b33d17a",
   "metadata": {},
   "outputs": [
    {
     "name": "stdout",
     "output_type": "stream",
     "text": [
      "data/annotation/test_texts.xlsx\n",
      "data/annotation/texts_unlabelled.xlsx\n"
     ]
    }
   ],
   "source": [
    "import os \n",
    "\n"
   ]
  },
  {
   "cell_type": "code",
   "execution_count": 33,
   "id": "d3fbb6d8-bd20-4be0-a921-cadb21e17adb",
   "metadata": {},
   "outputs": [
    {
     "data": {
      "text/plain": [
       "array([False])"
      ]
     },
     "execution_count": 33,
     "metadata": {},
     "output_type": "execute_result"
    }
   ],
   "source": [
    "pd.isna([\"Parent\"])\n"
   ]
  },
  {
   "cell_type": "code",
   "execution_count": 52,
   "id": "5245e5a8-1c7f-435a-a535-d63e368a1d91",
   "metadata": {},
   "outputs": [
    {
     "name": "stdout",
     "output_type": "stream",
     "text": [
      "nan\n",
      "qqch\n",
      "nan\n",
      "qqch\n",
      "nan\n",
      "qqch\n",
      "nan\n",
      "qqch\n",
      "nan\n",
      "qqch\n",
      "nan\n",
      "qqch\n",
      "nan\n",
      "qqch\n",
      "nan\n",
      "qqch\n",
      "nan\n",
      "qqch\n",
      "Data Quality\n",
      "qqch\n",
      "Data Quality\n",
      "qqch\n",
      "nan\n",
      "qqch\n"
     ]
    }
   ],
   "source": [
    "for i in range(12):\n",
    "    print(df[\"Parent\"][i])\n",
    "    if df[\"Parent\"][i]=='nan':\n",
    "        print('cest nan')\n",
    "    else:\n",
    "        print('qqch')"
   ]
  },
  {
   "cell_type": "code",
   "execution_count": 54,
   "id": "7665f5d9-e57a-4a1f-9993-e0cb01ca4a50",
   "metadata": {},
   "outputs": [
    {
     "name": "stdout",
     "output_type": "stream",
     "text": [
      "0\n",
      "1\n",
      "2\n",
      "3\n",
      "4\n"
     ]
    }
   ],
   "source": [
    "for i in range(5):\n",
    "    print(i)"
   ]
  },
  {
   "cell_type": "code",
   "execution_count": 53,
   "id": "75914f3d-b0ea-4cb6-be35-c7e5336e1c2d",
   "metadata": {},
   "outputs": [
    {
     "name": "stdout",
     "output_type": "stream",
     "text": [
      "nan\n",
      "cest nan\n",
      "nan\n",
      "cest nan\n",
      "nan\n",
      "cest nan\n",
      "nan\n",
      "cest nan\n",
      "nan\n",
      "cest nan\n",
      "nan\n",
      "cest nan\n",
      "nan\n",
      "cest nan\n",
      "nan\n",
      "cest nan\n",
      "nan\n",
      "cest nan\n",
      "Data Quality\n",
      "qqch\n",
      "Data Quality\n",
      "qqch\n",
      "nan\n",
      "cest nan\n"
     ]
    }
   ],
   "source": [
    "for i in range(len(df)):\n",
    "    print(df[\"Parent\"][i])\n",
    "    if pd.isna(df[\"Parent\"][i]):\n",
    "        print('cest nan')\n",
    "    else:\n",
    "        print('qqch')"
   ]
  },
  {
   "cell_type": "code",
   "execution_count": 76,
   "id": "2ec410a9-c919-483e-8eaf-71ea38cc5138",
   "metadata": {},
   "outputs": [
    {
     "name": "stdout",
     "output_type": "stream",
     "text": [
      "12\n"
     ]
    }
   ],
   "source": [
    "titres = df[\"Titre\"].tolist()\n",
    "parents = df[\"Parent\"].tolist()\n",
    "etoiles = df[\"Etoile\"].tolist()\n",
    "print(len(titres))"
   ]
  },
  {
   "cell_type": "code",
   "execution_count": 78,
   "id": "30b4a443-7c51-4456-a1b6-a71ead168e73",
   "metadata": {},
   "outputs": [
    {
     "name": "stdout",
     "output_type": "stream",
     "text": [
      "\n",
      "1. Le S.A.V. Bouygues Telecom a\n",
      "2. Elephant in the room a\n",
      "3. Elephant in the crowd a\n",
      "4. L'âge des ormeaux aa\n",
      "5. Factures en folie aa\n",
      "6. Analyse d'émotions aaa\n",
      "7. Compter les moutons aa\n",
      "8. Annotation aaaaa\n",
      "9. Data Quality aaaaa\n",
      " - 10. Data Viz  aa\n",
      " - 11. Explicabilité aaa\n",
      "12. Dérive aaa\n"
     ]
    }
   ],
   "source": [
    "reponse = \"\"\n",
    "for i in range(len(titres)):\n",
    "    if pd.isna(parents[i]):\n",
    "        reponse +=f\"\\n{i+1}. {titres[i]} {etoiles[i] * 'a'}\"\n",
    "    else :\n",
    "        reponse +=f\"\\n - {i+1}. {titres[i]} {etoiles[i] * 'a'}\"\n",
    "print(reponse)"
   ]
  },
  {
   "cell_type": "code",
   "execution_count": 95,
   "id": "31c69c85-7560-4a59-82b1-35d0ff73c951",
   "metadata": {},
   "outputs": [
    {
     "data": {
      "text/plain": [
       "\"data = {\\n    'violet': 444,\\n    'bleu': 469,\\n    'rouge': 409,\\n    'jaune': 330\\n}\""
      ]
     },
     "execution_count": 95,
     "metadata": {},
     "output_type": "execute_result"
    }
   ],
   "source": [
    "df[\"Réponse\"][6]"
   ]
  },
  {
   "cell_type": "code",
   "execution_count": null,
   "id": "1566d9ed-3947-455c-a243-50b9153c710f",
   "metadata": {},
   "outputs": [],
   "source": []
  }
 ],
 "metadata": {
  "kernelspec": {
   "display_name": "Python 3 (ipykernel)",
   "language": "python",
   "name": "python3"
  },
  "language_info": {
   "codemirror_mode": {
    "name": "ipython",
    "version": 3
   },
   "file_extension": ".py",
   "mimetype": "text/x-python",
   "name": "python",
   "nbconvert_exporter": "python",
   "pygments_lexer": "ipython3",
   "version": "3.11.7"
  }
 },
 "nbformat": 4,
 "nbformat_minor": 5
}
